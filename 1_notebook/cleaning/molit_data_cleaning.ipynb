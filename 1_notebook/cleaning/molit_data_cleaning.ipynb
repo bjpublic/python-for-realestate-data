{
 "cells": [
  {
   "cell_type": "code",
   "execution_count": 1,
   "id": "b2547498",
   "metadata": {},
   "outputs": [
    {
     "name": "stdout",
     "output_type": "stream",
     "text": [
      "/home/ubuntu/real_estate_dashboard\n"
     ]
    }
   ],
   "source": [
    "import pandas as pd\n",
    "import os\n",
    "import geopandas as gpd\n",
    "import glob\n",
    "\n",
    "os.chdir(\"/home/ubuntu/real_estate_dashboard\")\n",
    "print(os.getcwd())"
   ]
  },
  {
   "cell_type": "markdown",
   "id": "6200eb54",
   "metadata": {},
   "source": [
    "# 법정동 코드 지리 데이터 정리"
   ]
  },
  {
   "cell_type": "code",
   "execution_count": 12,
   "id": "ddff8c53",
   "metadata": {},
   "outputs": [],
   "source": [
    "legal_info_b = pd.read_csv(\"0_data/legal_info_b.csv\")\n",
    "legal_info_b = legal_info_b.astype({'법정동코드':'str',\n",
    "  '법정동시군구코드':'str',\n",
    "  '법정동읍면동코드':'str'})\n",
    "\n",
    "legal_info_b['법정동코드_2'] = legal_info_b['법정동코드'].str[:8] + '00'\n",
    "\n",
    "legal_info_b.head()"
   ]
  },
  {
   "cell_type": "code",
   "execution_count": 11,
   "id": "6fc3edfe",
   "metadata": {},
   "outputs": [],
   "source": [
    "geo_data = gpd.read_file('0_data/geoservice/emd.shp', dtype={'EMD_CD':object}, encoding='utf-8')\n",
    "geo_data['EMD_CD'] = geo_data['EMD_CD'] + \"00\"\n",
    "geo_data['EMD_KOR_NM'] = geo_data['EMD_KOR_NM'].str.decode('euc-kr')\n",
    "\n",
    "geo_data.rename(columns = {'EMD_CD':'법정동코드_2'}, inplace=True)\n",
    "geo_data = geo_data.astype({'법정동코드_2':'str'})\n",
    "geo_data = geo_data[['법정동코드_2', 'geometry']]\n",
    "\n",
    "geo_data.head()"
   ]
  },
  {
   "cell_type": "code",
   "execution_count": 13,
   "id": "0a3729b7",
   "metadata": {},
   "outputs": [],
   "source": [
    "legal_geo_info = pd.merge(legal_info_b, geo_data, \n",
    "                          on = \"법정동코드_2\",\n",
    "                          how = 'left')\n",
    "\n",
    "legal_geo_info.head(3).T"
   ]
  },
  {
   "cell_type": "code",
   "execution_count": 42,
   "id": "10f1df93",
   "metadata": {},
   "outputs": [],
   "source": [
    "#  key: 법정동코드\n",
    "legal_geo_info_2 = legal_geo_info[['법정동코드','시도명', '시군구명','동리명', 'geometry']].drop_duplicates()\n",
    "\n",
    "# key: 법정동시군구코드\n",
    "legal_geo_info_3 = legal_geo_info[['법정동시군구코드','시도명', '시군구명']].drop_duplicates()\n",
    "\n",
    "# key: 주소\n",
    "legal_geo_info_4 = legal_geo_info[['주소', '법정동코드', '법정동읍면동코드','geometry']].drop_duplicates()"
   ]
  },
  {
   "cell_type": "markdown",
   "id": "6f4983a0",
   "metadata": {},
   "source": [
    "## 법정동 지리데이터 통합"
   ]
  },
  {
   "cell_type": "code",
   "execution_count": 3,
   "id": "a7499b14",
   "metadata": {},
   "outputs": [],
   "source": [
    "legal_info_b = pd.read_csv(\"0_data/legal_info_b.csv\")\n",
    "legal_info_b = legal_info_b.astype({'법정동코드':'str',\n",
    "  '법정동시군구코드':'str',\n",
    "  '법정동읍면동코드':'str'})\n",
    "\n",
    "legal_info_b['법정동코드_2'] = legal_info_b['법정동코드'].str[:8] + '00'\n",
    "\n",
    "geo_data = gpd.read_file('0_data/geoservice/emd.shp', dtype={'EMD_CD':object}, encoding='utf-8')\n",
    "geo_data['EMD_CD'] = geo_data['EMD_CD'] + \"00\"\n",
    "geo_data['EMD_KOR_NM'] = geo_data['EMD_KOR_NM'].str.decode('euc-kr')\n",
    "\n",
    "geo_data.rename(columns = {'EMD_CD':'법정동코드_2'}, inplace=True)\n",
    "geo_data = geo_data.astype({'법정동코드_2':'str'})\n",
    "geo_data = geo_data[['법정동코드_2', 'geometry']]\n",
    "\n",
    "legal_geo_info = pd.merge(legal_info_b, geo_data, \n",
    "                          on = \"법정동코드_2\",\n",
    "                          how = 'left')\n",
    "\n",
    "#  key: 법정동코드\n",
    "legal_geo_info_2 = legal_geo_info[['법정동코드','시도명', '시군구명','동리명', 'geometry']].drop_duplicates()\n",
    "\n",
    "# key: 법정동시군구코드\n",
    "legal_geo_info_3 = legal_geo_info[['법정동시군구코드','시도명', '시군구명']].drop_duplicates()\n",
    "\n",
    "# key: 주소\n",
    "legal_geo_info_4 = legal_geo_info[['주소', '법정동코드', '법정동읍면동코드','geometry']].drop_duplicates()"
   ]
  },
  {
   "cell_type": "markdown",
   "id": "58558774",
   "metadata": {},
   "source": [
    "## 데이터 불러오기"
   ]
  },
  {
   "cell_type": "code",
   "execution_count": 7,
   "id": "c74e4777",
   "metadata": {},
   "outputs": [],
   "source": [
    "# 아파트 매매 실거래\n",
    "apt_trade = pd.read_csv(\"0_data/molit/apt_trade/apt_trade_202101.csv\", thousands=r',')\n",
    "# 아파트 전월세 \n",
    "apt_rent = pd.read_csv(\"0_data/molit/apt_rent/apt_rent_202101.csv\", thousands=r',')\n",
    "\n",
    "# 연립 다세대 매매 실거래\n",
    "rh_trade = pd.read_csv(\"0_data/molit/rh_trade/rh_trade_202101.csv\", thousands=r',')\n",
    "# 연립 다세대 전월세\n",
    "rh_rent = pd.read_csv(\"0_data/molit/rh_rent/rh_rent_202101.csv\", thousands=r',')\n",
    "\n",
    "# 단독/다가구 매매 실거래\n",
    "sh_trade = pd.read_csv(\"0_data/molit/sh_trade/sh_trade_202101.csv\", thousands=r',')\n",
    "# 단독/다가구 전월세\n",
    "sh_rent = pd.read_csv(\"0_data/molit/sh_rent/sh_rent_202101.csv\", thousands=r',')\n",
    "\n",
    "# 오피스텔 매매 실거래\n",
    "offi_trade = pd.read_csv(\"0_data/molit/offi_trade/offi_trade_202101.csv\", thousands=r',')\n",
    "# 오피스텔 전월세\n",
    "offi_rent = pd.read_csv(\"0_data/molit/offi_rent/offi_rent_202101.csv\", thousands=r',')"
   ]
  },
  {
   "cell_type": "markdown",
   "id": "f0977d6b",
   "metadata": {},
   "source": [
    "# 아파트 매매 실거래"
   ]
  },
  {
   "cell_type": "code",
   "execution_count": 10,
   "id": "3390e3ef",
   "metadata": {},
   "outputs": [],
   "source": [
    "apt_trade['법정동코드'] = apt_trade['법정동시군구코드'].astype(str) + apt_trade['법정동읍면동코드'].astype(str)\n",
    "apt_trade = apt_trade[['거래금액', '거래유형', '건축년도', '전용면적', '법정동','법정동코드','아파트','층','년','월','일']]"
   ]
  },
  {
   "cell_type": "code",
   "execution_count": 14,
   "id": "ef028e1d",
   "metadata": {},
   "outputs": [],
   "source": [
    "apt_trade_final = pd.merge(apt_trade, legal_geo_info_2, \n",
    "                        on = \"법정동코드\",\n",
    "                        how = 'left')\n",
    "apt_trade_final.head(3)"
   ]
  },
  {
   "cell_type": "code",
   "execution_count": 13,
   "id": "8f6963b2",
   "metadata": {},
   "outputs": [
    {
     "data": {
      "text/plain": [
       "거래금액           int64\n",
       "거래유형          object\n",
       "건축년도          object\n",
       "전용면적         float64\n",
       "법정동           object\n",
       "법정동코드         object\n",
       "아파트           object\n",
       "층              int64\n",
       "년              int64\n",
       "월              int64\n",
       "일              int64\n",
       "시도명           object\n",
       "시군구명          object\n",
       "동리명           object\n",
       "geometry    geometry\n",
       "dtype: object"
      ]
     },
     "execution_count": 13,
     "metadata": {},
     "output_type": "execute_result"
    }
   ],
   "source": [
    "apt_trade_final = apt_trade_final.astype({\n",
    "    '거래금액':'int',\n",
    "    '거래유형':'object',\n",
    "    '건축년도':'int',\n",
    "    '전용면적':'float',\n",
    "    '법정동':'object',\n",
    "    '법정동코드':'object',\n",
    "    '아파트':'object',\n",
    "    '층':'int',\n",
    "    '년':'int',\n",
    "    '월':'int',\n",
    "    '일':'int',\n",
    "    '시도명': 'object',\n",
    "    '시군구명': 'object',\n",
    "    '동리명': 'object',\n",
    "    'geometry': 'geometry',\n",
    "})\n",
    "\n",
    "apt_trade_final.dtypes"
   ]
  },
  {
   "cell_type": "markdown",
   "id": "050b39a9",
   "metadata": {},
   "source": [
    "## 아파트 실거래가 최종"
   ]
  },
  {
   "cell_type": "code",
   "execution_count": 53,
   "id": "34b29fc8",
   "metadata": {},
   "outputs": [],
   "source": [
    "# 법정동시군구코드, 건축년도 자료형 변경\n",
    "apt_trade = apt_trade[apt_trade['건축년도'].notnull()]\n",
    "apt_trade = apt_trade.astype({'법정동시군구코드':'str',\n",
    "                              '법정동읍면동코드':'str',\n",
    "                              '건축년도':'int'})\n",
    "    \n",
    "apt_trade['법정동코드'] = apt_trade['법정동시군구코드'] + apt_trade['법정동읍면동코드']\n",
    "\n",
    "apt_trade = apt_trade[['거래금액', '거래유형', \n",
    "                       '건축년도', '전용면적', \n",
    "                       '법정동','법정동코드','아파트','층',\n",
    "                       '년','월','일']]\n",
    "    \n",
    "apt_trade_final = pd.merge(apt_trade, legal_geo_info_2, \n",
    "                        on = \"법정동코드\",\n",
    "                        how = 'left')\n",
    "\n",
    "apt_trade_final = apt_trade_final.astype({\n",
    "    '거래금액':'int',\n",
    "    '거래유형':'object',\n",
    "    '건축년도':'int',\n",
    "    '전용면적':'float',\n",
    "    '법정동':'object',\n",
    "    '법정동코드':'object',\n",
    "    '아파트':'object',\n",
    "    '층':'int',\n",
    "    '년':'int',\n",
    "    '월':'int',\n",
    "    '일':'int',\n",
    "    '시도명': 'object',\n",
    "    '시군구명': 'object',\n",
    "    '동리명': 'object',\n",
    "    'geometry': 'geometry',\n",
    "})"
   ]
  },
  {
   "cell_type": "code",
   "execution_count": 1,
   "id": "c3139176",
   "metadata": {},
   "outputs": [],
   "source": [
    "# legal_geo_info_2"
   ]
  },
  {
   "cell_type": "markdown",
   "id": "50eff97b",
   "metadata": {},
   "source": [
    "# 아파트 전월세 예시"
   ]
  },
  {
   "cell_type": "code",
   "execution_count": 21,
   "id": "5496682b",
   "metadata": {},
   "outputs": [],
   "source": [
    "apt_rent = apt_rent[['건축년도', '법정동', '지번','아파트','보증금액','월세금액','전용면적','층','지역코드','년','월','일']]\n",
    "\n",
    "apt_rent.rename(columns = {'지역코드':'법정동시군구코드'}, inplace=True)\n",
    "apt_rent.rename(columns = {'법정동':'동리명'}, inplace=True)\n",
    "apt_rent = apt_rent.astype({'법정동시군구코드':'str'})\n",
    "\n",
    "apt_rent_2 = pd.merge(apt_rent, legal_geo_info_3, \n",
    "                      on = ['법정동시군구코드'],\n",
    "                      how = 'left')"
   ]
  },
  {
   "cell_type": "code",
   "execution_count": 23,
   "id": "e608144e",
   "metadata": {},
   "outputs": [],
   "source": [
    "apt_rent_2['시도명'] = apt_rent_2['시도명'].str.strip()\n",
    "apt_rent_2['시군구명'] = apt_rent_2['시군구명'].str.strip()\n",
    "apt_rent_2['동리명'] = apt_rent_2['동리명'].str.strip()\n",
    "\n",
    "apt_rent_2['주소'] = apt_rent_2['시도명'] + \" \" + apt_rent_2['시군구명'] + \" \" + apt_rent_2['동리명']"
   ]
  },
  {
   "cell_type": "code",
   "execution_count": 162,
   "id": "fdc5e610",
   "metadata": {},
   "outputs": [],
   "source": [
    "apt_rent_3 = pd.merge(apt_rent_2, legal_geo_info_4, \n",
    "                      on = ['주소'],\n",
    "                      how = 'left')"
   ]
  },
  {
   "cell_type": "code",
   "execution_count": 166,
   "id": "5e6bfae5",
   "metadata": {},
   "outputs": [],
   "source": [
    "apt_rent_3 = apt_rent_3.replace('충청북도 청주시 상당구 북문로2가동', '충청북도 청주시 상당구 북문로2가')\n",
    "apt_rent_3 = apt_rent_3.replace('충청북도 청주시 상당구 북문로3가동', '충청북도 청주시 상당구 북문로3가')\n",
    "apt_rent_3 = apt_rent_3.replace('충청북도 청주시 상당구 남문로1가동', '충청북도 청주시 상당구 남문로1가')"
   ]
  },
  {
   "cell_type": "markdown",
   "id": "71cef06d",
   "metadata": {},
   "source": [
    "# 아파트 전월세"
   ]
  },
  {
   "cell_type": "code",
   "execution_count": 63,
   "id": "1b1558e9",
   "metadata": {},
   "outputs": [],
   "source": [
    "apt_rent = pd.read_csv(\"0_data/molit/apt_rent/apt_rent_202101.csv\", thousands=r',')\n",
    "\n",
    "apt_rent.rename(columns = {'지역코드':'법정동시군구코드'}, inplace=True)\n",
    "apt_rent.rename(columns = {'법정동':'동리명'}, inplace=True)\n",
    "\n",
    "# 법정동시군구코드, 건축년도 자료형 변경\n",
    "apt_rent = apt_rent[apt_rent['건축년도'].notnull()]\n",
    "apt_rent = apt_rent.astype({'법정동시군구코드':'str',\n",
    "               '건축년도':'int'})\n",
    "\n",
    "apt_rent_2 = pd.merge(apt_rent, legal_geo_info_3, \n",
    "                      on = ['법정동시군구코드'],\n",
    "                      how = 'left')\n",
    "\n",
    "apt_rent_2['시도명'] = apt_rent_2['시도명'].str.strip()\n",
    "apt_rent_2['시군구명'] = apt_rent_2['시군구명'].str.strip()\n",
    "apt_rent_2['동리명'] = apt_rent_2['동리명'].str.strip()\n",
    "\n",
    "apt_rent_2 = apt_rent_2.where(pd.notnull(apt_rent_2), '')\n",
    "\n",
    "apt_rent_2['주소'] = apt_rent_2['시도명'] + \" \" + \\\n",
    "                     apt_rent_2['시군구명'] + \" \" + \\\n",
    "                     apt_rent_2['동리명']"
   ]
  },
  {
   "cell_type": "code",
   "execution_count": 71,
   "id": "84956341",
   "metadata": {},
   "outputs": [],
   "source": [
    "apt_rent = pd.read_csv(\"0_data/molit/apt_rent/apt_rent_202111.csv\", thousands=r',')\n",
    "\n",
    "apt_rent.rename(columns = {'지역코드':'법정동시군구코드'}, inplace=True)\n",
    "apt_rent.rename(columns = {'법정동':'동리명'}, inplace=True)\n",
    "\n",
    "# 법정동시군구코드, 건축년도 자료형 변경\n",
    "apt_rent = apt_rent[apt_rent['건축년도'].notnull()]\n",
    "apt_rent = apt_rent.astype({'법정동시군구코드':'str',\n",
    "               '건축년도':'int'})\n",
    "\n",
    "apt_rent_2 = pd.merge(apt_rent, legal_geo_info_3, \n",
    "                      on = ['법정동시군구코드'],\n",
    "                      how = 'left')\n",
    "\n",
    "apt_rent_2['시도명'] = apt_rent_2['시도명'].str.strip()\n",
    "apt_rent_2['시군구명'] = apt_rent_2['시군구명'].str.strip()\n",
    "apt_rent_2['동리명'] = apt_rent_2['동리명'].str.strip()\n",
    "\n",
    "apt_rent_2 = apt_rent_2.where(pd.notnull(apt_rent_2), '')\n",
    "\n",
    "apt_rent_2['주소'] = apt_rent_2['시도명'] + \" \" + apt_rent_2['시군구명'] + \" \" + apt_rent_2['동리명']\n",
    "\n",
    "apt_rent_2['주소'] = apt_rent_2['주소'].str.replace('  ', ' ')\n",
    "apt_rent_2['주소'] = apt_rent_2['주소'].str.strip()\n",
    "\n",
    "apt_rent_2 = apt_rent_2.replace('충청북도 청주시 상당구 북문로2가동', '충청북도 청주시 상당구 북문로2가')\n",
    "apt_rent_2 = apt_rent_2.replace('충청북도 청주시 상당구 북문로3가동', '충청북도 청주시 상당구 북문로3가')\n",
    "apt_rent_2 = apt_rent_2.replace('충청북도 청주시 상당구 남문로1가동', '충청북도 청주시 상당구 남문로1가')\n",
    "\n",
    "apt_rent_3 = pd.merge(apt_rent_2, legal_geo_info_4, \n",
    "                      on = ['주소'],\n",
    "                      how = 'left')"
   ]
  },
  {
   "cell_type": "code",
   "execution_count": 15,
   "id": "4a2f2e3e",
   "metadata": {},
   "outputs": [],
   "source": [
    "# apt_rent[apt_rent['법정동시군구코드'].str.contains('43130')]\n",
    "apt_rent = pd.read_csv(\"0_data/molit/apt_rent/apt_rent_202111.csv\", thousands=r',')\n"
   ]
  },
  {
   "cell_type": "markdown",
   "id": "b27083fa",
   "metadata": {},
   "source": [
    "## 함수 만들기"
   ]
  },
  {
   "cell_type": "code",
   "execution_count": 5,
   "id": "98d79df4",
   "metadata": {},
   "outputs": [],
   "source": [
    "def molit_data_cleaning(df):\n",
    "\n",
    "    # 아파트 실거래 매매 데이터 전처리\n",
    "    if('법정동시군구코드' in df.columns):\n",
    "        # 법정동시군구코드, 건축년도 자료형 변경\n",
    "        df = df[df['건축년도'].notnull()]\n",
    "        df = df.astype({'법정동시군구코드':'str',\n",
    "                        '법정동읍면동코드':'str',\n",
    "                        '건축년도':'int'})\n",
    "\n",
    "        df['법정동코드'] = df['법정동시군구코드'] + df['법정동읍면동코드']\n",
    "        df = df[['거래금액', '거래유형', \n",
    "                 '건축년도', '전용면적', \n",
    "                 '법정동','법정동코드','아파트','층',\n",
    "                 '년','월','일']]\n",
    "\n",
    "        df_final = pd.merge(df, legal_geo_info_2, \n",
    "                                on = \"법정동코드\",\n",
    "                                how = 'left')\n",
    "        \n",
    "    # 아파트 실거래 매매 제외 전부\n",
    "    else:\n",
    "\n",
    "        # 컬럼 이름 변경\n",
    "        df.rename(columns = {'지역코드':'법정동시군구코드'}, inplace=True)\n",
    "        df.rename(columns = {'법정동':'동리명'}, inplace=True)\n",
    "\n",
    "        # 법정동시군구코드, 건축년도 자료형 변경\n",
    "        df = df[df['건축년도'].notnull()]\n",
    "        df = df.astype({'법정동시군구코드':'str',\n",
    "                       '건축년도':'int'})\n",
    "\n",
    "        # legal_geo_info_3과 merge \n",
    "        # key = 법정동시군구코드\n",
    "        df = pd.merge(df, legal_geo_info_3, \n",
    "                             on = ['법정동시군구코드'],\n",
    "                             how = 'left')\n",
    "\n",
    "        # 시도명, 시군구명, 동리명 양쪽 공백 제거\n",
    "        df['시도명'] = df['시도명'].str.strip()\n",
    "        df['시군구명'] = df['시군구명'].str.strip()\n",
    "        df['동리명'] = df['동리명'].str.strip()\n",
    "\n",
    "        # NA 길이 없는 문자열로 변경\n",
    "        df = df.where(pd.notnull(df), '')\n",
    "\n",
    "        # 시도명, 시군구명, 동리명을 합쳐서 주소 컬럼 추가\n",
    "        df['주소'] = df['시도명'] + \" \" + \\\n",
    "                     df['시군구명'] + \" \" + \\\n",
    "                     df['동리명']\n",
    "\n",
    "        # 주소컬럼에 공백2개 있는부분 1개로 변경\n",
    "        # 주소의 양쪽 공백 제거\n",
    "        df['주소'] = df['주소'].str.replace('  ', ' ')\n",
    "        df['주소'] = df['주소'].str.strip()\n",
    "\n",
    "        # 특별한 데이터 문자열 변경\n",
    "        df = df.replace('충청북도 청주시 상당구 북문로2가동', \n",
    "                        '충청북도 청주시 상당구 북문로2가')\n",
    "        df = df.replace('충청북도 청주시 상당구 북문로3가동', \n",
    "                        '충청북도 청주시 상당구 북문로3가')\n",
    "        df = df.replace('충청북도 청주시 상당구 남문로1가동', \n",
    "                        '충청북도 청주시 상당구 남문로1가')\n",
    "\n",
    "        # legal_geo_info_4와 최종 merge. key 값은 주소  \n",
    "        df_final = pd.merge(df, legal_geo_info_4, \n",
    "                             on = ['주소'],\n",
    "                             how = 'left')\n",
    "    \n",
    "    return(df_final)"
   ]
  },
  {
   "cell_type": "markdown",
   "id": "a8012343",
   "metadata": {},
   "source": [
    "## 함수 테스트"
   ]
  },
  {
   "cell_type": "code",
   "execution_count": 16,
   "id": "af499a32",
   "metadata": {},
   "outputs": [],
   "source": [
    "df_clean = molit_data_cleaning(apt_trade)\n",
    "\n",
    "df_clean.head(3)"
   ]
  },
  {
   "cell_type": "code",
   "execution_count": 17,
   "id": "1a9d9d1e",
   "metadata": {},
   "outputs": [],
   "source": [
    "df_clean = molit_data_cleaning(apt_rent)\n",
    "\n",
    "df_clean.head(3)"
   ]
  },
  {
   "cell_type": "code",
   "execution_count": 18,
   "id": "6123f4fc",
   "metadata": {},
   "outputs": [],
   "source": [
    "df_clean = molit_data_cleaning(rh_trade)\n",
    "\n",
    "df_clean.head(3)"
   ]
  },
  {
   "cell_type": "code",
   "execution_count": 19,
   "id": "d749d5f6",
   "metadata": {},
   "outputs": [],
   "source": [
    "df_clean = molit_data_cleaning(rh_rent)\n",
    "\n",
    "df_clean.head(3)"
   ]
  },
  {
   "cell_type": "code",
   "execution_count": 20,
   "id": "1f61c863",
   "metadata": {},
   "outputs": [],
   "source": [
    "df_clean = molit_data_cleaning(sh_trade)\n",
    "\n",
    "df_clean.head(3)"
   ]
  },
  {
   "cell_type": "code",
   "execution_count": 21,
   "id": "71a90c12",
   "metadata": {},
   "outputs": [],
   "source": [
    "df_clean = molit_data_cleaning(sh_rent)\n",
    "\n",
    "df_clean.head(3)"
   ]
  },
  {
   "cell_type": "code",
   "execution_count": 23,
   "id": "32781df5",
   "metadata": {},
   "outputs": [],
   "source": [
    "df_clean = molit_data_cleaning(offi_trade)\n",
    "\n",
    "df_clean.head(3)"
   ]
  },
  {
   "cell_type": "code",
   "execution_count": 24,
   "id": "c2b8c071",
   "metadata": {},
   "outputs": [],
   "source": [
    "df_clean = molit_data_cleaning(offi_rent)\n",
    "\n",
    "df_clean.head(3)"
   ]
  },
  {
   "cell_type": "markdown",
   "id": "302f82b9",
   "metadata": {},
   "source": [
    "# 저장"
   ]
  },
  {
   "cell_type": "code",
   "execution_count": 93,
   "id": "5750d658",
   "metadata": {},
   "outputs": [
    {
     "data": {
      "text/plain": [
       "(62614, 15)"
      ]
     },
     "execution_count": 93,
     "metadata": {},
     "output_type": "execute_result"
    }
   ],
   "source": [
    "# 0_data/molit/apt_trade/apt_trade_202101.csv\n",
    "apt_trade_test = molit_data_cleaning(apt_trade)\n",
    "apt_trade_test.shape"
   ]
  },
  {
   "cell_type": "code",
   "execution_count": 91,
   "id": "aea192f7",
   "metadata": {},
   "outputs": [],
   "source": [
    "file_name = f'0_data/cleaning/molit/apt_trade_test.csv'\n",
    "apt_trade_test.to_csv(file_name, index = False)"
   ]
  },
  {
   "cell_type": "code",
   "execution_count": 94,
   "id": "41cd0532",
   "metadata": {},
   "outputs": [],
   "source": [
    "# 0_data/molit/apt_trade/apt_trade_202101.csv\n",
    "apt_trade_test_rm_geometry = molit_data_cleaning(apt_trade)\n",
    "apt_trade_test_rm_geometry = apt_trade_test_rm_geometry.drop(columns=['geometry'])\n",
    "\n",
    "file_name = f'0_data/cleaning/molit/apt_trade_test_rm_geometry.csv'\n",
    "apt_trade_test_rm_geometry.to_csv(file_name, index = False)"
   ]
  },
  {
   "cell_type": "code",
   "execution_count": 25,
   "id": "8317f0d3",
   "metadata": {},
   "outputs": [],
   "source": [
    "# 국토교통부 8개 데이터셋\n",
    "list_nm = ['apt_trade','apt_rent', \n",
    "           'rh_trade', 'rh_rent', \n",
    "           'sh_trade', 'sh_rent', \n",
    "           'offi_trade', 'offi_rent']\n",
    "\n",
    "\n",
    "# 8개 데이터셋 반복문\n",
    "for k in range(len(list_nm)):\n",
    "    \n",
    "    dir_list = f'0_data/molit/{list_nm[k]}/*.csv'\n",
    "    print(dir_list)"
   ]
  },
  {
   "cell_type": "code",
   "execution_count": 9,
   "id": "f0688f2c",
   "metadata": {},
   "outputs": [],
   "source": [
    "# 국토교통부 8개 데이터셋\n",
    "list_nm = ['apt_trade','apt_rent', \n",
    "           'rh_trade', 'rh_rent', \n",
    "           'sh_trade', 'sh_rent', \n",
    "           'offi_trade', 'offi_rent']\n",
    "\n",
    "list_nm = ['apt_rent']\n",
    "\n",
    "# 8개 데이터셋 반복문\n",
    "for k in range(len(list_nm)):\n",
    "    \n",
    "    total = pd.DataFrame()\n",
    "    \n",
    "    \n",
    "    # 8개 데이터셋에 따른 파일 리스트 조회\n",
    "    dir_list = f'0_data/molit/{list_nm[k]}/*.csv'\n",
    "    file_list = sorted(glob.glob(dir_list))\n",
    "    print(file_list)\n",
    "    "
   ]
  },
  {
   "cell_type": "code",
   "execution_count": 10,
   "id": "0086812d",
   "metadata": {},
   "outputs": [
    {
     "name": "stdout",
     "output_type": "stream",
     "text": [
      "[]\n"
     ]
    }
   ],
   "source": [
    "dir_list = f'0_data/{list_nm[k]}/*.csv'\n",
    "file_list = sorted(glob.glob(dir_list))\n",
    "print(file_list)\n",
    "    \n"
   ]
  },
  {
   "cell_type": "code",
   "execution_count": 26,
   "id": "0228074c",
   "metadata": {},
   "outputs": [],
   "source": [
    "file_nm = '0_data/molit/apt_rent/apt_rent_202111.csv'\n",
    "\n",
    "df = pd.read_csv(file_nm, thousands=r',')\n",
    "\n",
    "clean_df = molit_data_cleaning(df)\n",
    "clean_df = clean_df.drop(columns=['geometry'])\n",
    "\n",
    "total = pd.concat([total, clean_df])"
   ]
  },
  {
   "cell_type": "code",
   "execution_count": 43,
   "id": "68942fd5",
   "metadata": {},
   "outputs": [],
   "source": [
    "file_nm = '0_data/molit/apt_rent/apt_rent_202111.csv'\n",
    "\n",
    "df = pd.read_csv(file_nm, thousands=r',')"
   ]
  },
  {
   "cell_type": "code",
   "execution_count": 46,
   "id": "4a551bfd",
   "metadata": {},
   "outputs": [],
   "source": [
    "df['지역코드'] = df['지역코드'].astype(str)"
   ]
  },
  {
   "cell_type": "code",
   "execution_count": 13,
   "id": "919f75ce",
   "metadata": {},
   "outputs": [
    {
     "name": "stderr",
     "output_type": "stream",
     "text": [
      "/tmp/ipykernel_2558/3916799158.py:1: DtypeWarning: Columns (16) have mixed types. Specify dtype option on import or set low_memory=False.\n",
      "  apt_rent_clean = pd.read_csv(\"0_data/cleaning/molit/apt_rent.csv\", thousands=r',')\n"
     ]
    }
   ],
   "source": [
    "apt_rent_clean = pd.read_csv(\"0_data/cleaning/molit/apt_rent.csv\", thousands=r',')"
   ]
  },
  {
   "cell_type": "code",
   "execution_count": 6,
   "id": "eb2f7c10",
   "metadata": {},
   "outputs": [],
   "source": [
    "# 국토교통부 8개 데이터셋\n",
    "list_nm = ['apt_trade','apt_rent', \n",
    "           'rh_trade', 'rh_rent', \n",
    "           'sh_trade', 'sh_rent', \n",
    "           'offi_trade', 'offi_rent']\n",
    "\n",
    "list_nm = ['offi_rent']\n",
    "\n",
    "# 8개 데이터셋 반복문\n",
    "for k in range(len(list_nm)):\n",
    "    \n",
    "    total = pd.DataFrame()\n",
    "    \n",
    "    \n",
    "    # 8개 데이터셋에 따른 파일 리스트 조회\n",
    "    dir_list = f'0_data/{list_nm[k]}/*.csv'\n",
    "    file_list = sorted(glob.glob(dir_list))\n",
    "    \n",
    "    # 각 파일 리스트에 대한 반복문\n",
    "    # molit_data_cleaning() 함수를 사용한 전처리\n",
    "    # geometry 컬럼 제거\n",
    "    # total 에다가 모두 이어붙임\n",
    "    for i in range(len(file_list)):\n",
    "        print(i)\n",
    "        df = pd.read_csv(file_list[i], thousands=r',')\n",
    "        \n",
    "        clean_df = molit_data_cleaning(df)\n",
    "        clean_df = clean_df.drop(columns=['geometry'])\n",
    "\n",
    "        total = pd.concat([total, clean_df])\n",
    "\n",
    "    # 최종적으로 만든 total은 0_data_claeaning/molit에 저장\n",
    "    file_name = f'0_data/cleaning/molit/{list_nm[k]}_2.csv'\n",
    "    total.to_csv(file_name, index = False)"
   ]
  },
  {
   "cell_type": "code",
   "execution_count": 62,
   "id": "ed93aef3",
   "metadata": {},
   "outputs": [],
   "source": [
    "# 국토교통부 8개 데이터셋\n",
    "list_nm = ['apt_trade','apt_rent', \n",
    "           'rh_trade', 'rh_rent', \n",
    "           'sh_trade', 'sh_rent', \n",
    "           'offi_trade', 'offi_rent']\n",
    "\n",
    "# 8개 데이터셋 반복문\n",
    "for k in range(len(list_nm)):\n",
    "    \n",
    "    total = pd.DataFrame()\n",
    "    \n",
    "    \n",
    "    # 8개 데이터셋에 따른 파일 리스트 조회\n",
    "    dir_list = f'0_data/molit/{list_nm[k]}/*.csv'\n",
    "    file_list = sorted(glob.glob(dir_list))\n",
    "    \n",
    "    # 각 파일 리스트에 대한 반복문\n",
    "    # molit_data_cleaning() 함수를 사용한 전처리\n",
    "    # geometry 컬럼 제거\n",
    "    # total 에다가 모두 이어붙임\n",
    "    for i in range(len(file_list)):\n",
    "        print(i)\n",
    "        df = pd.read_csv(file_list[i], thousands=r',')\n",
    "        \n",
    "        clean_df = molit_data_cleaning(df)\n",
    "        clean_df = clean_df.drop(columns=['geometry'])\n",
    "\n",
    "        total = pd.concat([total, clean_df])\n",
    "\n",
    "    # 최종적으로 만든 total은 0_data_claeaning/molit에 저장\n",
    "    file_name = f'0_data/cleaning/molit/{list_nm[k]}.csv'\n",
    "    total.to_csv(file_name, index = False)"
   ]
  },
  {
   "cell_type": "code",
   "execution_count": 74,
   "id": "adf81618",
   "metadata": {},
   "outputs": [
    {
     "name": "stderr",
     "output_type": "stream",
     "text": [
      "/home/ubuntu/anaconda3/lib/python3.9/site-packages/IPython/core/interactiveshell.py:3444: DtypeWarning: Columns (7) have mixed types.Specify dtype option on import or set low_memory=False.\n",
      "  exec(code_obj, self.user_global_ns, self.user_ns)\n"
     ]
    }
   ],
   "source": [
    "df1 = pd.read_csv('0_data/cleaning/molit/apt_trade.csv', dtype = {'법정동코드':str})"
   ]
  },
  {
   "cell_type": "code",
   "execution_count": 77,
   "id": "bb51dffb",
   "metadata": {},
   "outputs": [
    {
     "data": {
      "text/html": [
       "<div>\n",
       "<style scoped>\n",
       "    .dataframe tbody tr th:only-of-type {\n",
       "        vertical-align: middle;\n",
       "    }\n",
       "\n",
       "    .dataframe tbody tr th {\n",
       "        vertical-align: top;\n",
       "    }\n",
       "\n",
       "    .dataframe thead th {\n",
       "        text-align: right;\n",
       "    }\n",
       "</style>\n",
       "<table border=\"1\" class=\"dataframe\">\n",
       "  <thead>\n",
       "    <tr style=\"text-align: right;\">\n",
       "      <th></th>\n",
       "      <th>거래금액</th>\n",
       "      <th>거래유형</th>\n",
       "      <th>건축년도</th>\n",
       "      <th>전용면적</th>\n",
       "      <th>법정동</th>\n",
       "      <th>법정동코드</th>\n",
       "      <th>아파트</th>\n",
       "      <th>층</th>\n",
       "      <th>년</th>\n",
       "      <th>월</th>\n",
       "      <th>일</th>\n",
       "      <th>시도명</th>\n",
       "      <th>시군구명</th>\n",
       "      <th>동리명</th>\n",
       "    </tr>\n",
       "  </thead>\n",
       "  <tbody>\n",
       "    <tr>\n",
       "      <th>0</th>\n",
       "      <td>105000</td>\n",
       "      <td></td>\n",
       "      <td>2008</td>\n",
       "      <td>97.6100</td>\n",
       "      <td>사직동</td>\n",
       "      <td>1111011500</td>\n",
       "      <td>광화문스페이스본(101동~105동)</td>\n",
       "      <td>10</td>\n",
       "      <td>2019</td>\n",
       "      <td>1</td>\n",
       "      <td>7</td>\n",
       "      <td>서울특별시</td>\n",
       "      <td>종로구</td>\n",
       "      <td>NaN</td>\n",
       "    </tr>\n",
       "    <tr>\n",
       "      <th>1</th>\n",
       "      <td>162000</td>\n",
       "      <td></td>\n",
       "      <td>2008</td>\n",
       "      <td>163.3300</td>\n",
       "      <td>사직동</td>\n",
       "      <td>1111011500</td>\n",
       "      <td>광화문스페이스본(106동)</td>\n",
       "      <td>11</td>\n",
       "      <td>2019</td>\n",
       "      <td>1</td>\n",
       "      <td>11</td>\n",
       "      <td>서울특별시</td>\n",
       "      <td>종로구</td>\n",
       "      <td>NaN</td>\n",
       "    </tr>\n",
       "    <tr>\n",
       "      <th>2</th>\n",
       "      <td>119000</td>\n",
       "      <td></td>\n",
       "      <td>2008</td>\n",
       "      <td>131.4400</td>\n",
       "      <td>사직동</td>\n",
       "      <td>1111011500</td>\n",
       "      <td>광화문스페이스본(101동~105동)</td>\n",
       "      <td>13</td>\n",
       "      <td>2019</td>\n",
       "      <td>1</td>\n",
       "      <td>19</td>\n",
       "      <td>서울특별시</td>\n",
       "      <td>종로구</td>\n",
       "      <td>NaN</td>\n",
       "    </tr>\n",
       "    <tr>\n",
       "      <th>3</th>\n",
       "      <td>119000</td>\n",
       "      <td></td>\n",
       "      <td>2008</td>\n",
       "      <td>147.3100</td>\n",
       "      <td>사직동</td>\n",
       "      <td>1111011500</td>\n",
       "      <td>광화문스페이스본(101동~105동)</td>\n",
       "      <td>1</td>\n",
       "      <td>2019</td>\n",
       "      <td>1</td>\n",
       "      <td>30</td>\n",
       "      <td>서울특별시</td>\n",
       "      <td>종로구</td>\n",
       "      <td>NaN</td>\n",
       "    </tr>\n",
       "    <tr>\n",
       "      <th>4</th>\n",
       "      <td>160000</td>\n",
       "      <td></td>\n",
       "      <td>2004</td>\n",
       "      <td>150.4800</td>\n",
       "      <td>내수동</td>\n",
       "      <td>1111011800</td>\n",
       "      <td>경희궁의아침4단지</td>\n",
       "      <td>14</td>\n",
       "      <td>2019</td>\n",
       "      <td>1</td>\n",
       "      <td>25</td>\n",
       "      <td>서울특별시</td>\n",
       "      <td>종로구</td>\n",
       "      <td>NaN</td>\n",
       "    </tr>\n",
       "    <tr>\n",
       "      <th>...</th>\n",
       "      <td>...</td>\n",
       "      <td>...</td>\n",
       "      <td>...</td>\n",
       "      <td>...</td>\n",
       "      <td>...</td>\n",
       "      <td>...</td>\n",
       "      <td>...</td>\n",
       "      <td>...</td>\n",
       "      <td>...</td>\n",
       "      <td>...</td>\n",
       "      <td>...</td>\n",
       "      <td>...</td>\n",
       "      <td>...</td>\n",
       "      <td>...</td>\n",
       "    </tr>\n",
       "    <tr>\n",
       "      <th>2241160</th>\n",
       "      <td>7950</td>\n",
       "      <td>직거래</td>\n",
       "      <td>2000</td>\n",
       "      <td>58.9440</td>\n",
       "      <td>대정읍 상모리</td>\n",
       "      <td>5013025021</td>\n",
       "      <td>한빛테크</td>\n",
       "      <td>2</td>\n",
       "      <td>2022</td>\n",
       "      <td>11</td>\n",
       "      <td>4</td>\n",
       "      <td>제주특별자치도</td>\n",
       "      <td>서귀포시</td>\n",
       "      <td>상모리</td>\n",
       "    </tr>\n",
       "    <tr>\n",
       "      <th>2241161</th>\n",
       "      <td>28500</td>\n",
       "      <td>직거래</td>\n",
       "      <td>2016</td>\n",
       "      <td>80.0500</td>\n",
       "      <td>대정읍 상모리</td>\n",
       "      <td>5013025021</td>\n",
       "      <td>해누리2차아파트</td>\n",
       "      <td>2</td>\n",
       "      <td>2022</td>\n",
       "      <td>11</td>\n",
       "      <td>4</td>\n",
       "      <td>제주특별자치도</td>\n",
       "      <td>서귀포시</td>\n",
       "      <td>상모리</td>\n",
       "    </tr>\n",
       "    <tr>\n",
       "      <th>2241162</th>\n",
       "      <td>10500</td>\n",
       "      <td>중개거래</td>\n",
       "      <td>1996</td>\n",
       "      <td>60.0000</td>\n",
       "      <td>남원읍 남원리</td>\n",
       "      <td>5013025321</td>\n",
       "      <td>에덴</td>\n",
       "      <td>5</td>\n",
       "      <td>2022</td>\n",
       "      <td>11</td>\n",
       "      <td>17</td>\n",
       "      <td>제주특별자치도</td>\n",
       "      <td>서귀포시</td>\n",
       "      <td>남원리</td>\n",
       "    </tr>\n",
       "    <tr>\n",
       "      <th>2241163</th>\n",
       "      <td>31500</td>\n",
       "      <td>중개거래</td>\n",
       "      <td>2017</td>\n",
       "      <td>80.9348</td>\n",
       "      <td>표선면 표선리</td>\n",
       "      <td>5013032021</td>\n",
       "      <td>다움채</td>\n",
       "      <td>4</td>\n",
       "      <td>2022</td>\n",
       "      <td>11</td>\n",
       "      <td>1</td>\n",
       "      <td>제주특별자치도</td>\n",
       "      <td>서귀포시</td>\n",
       "      <td>표선리</td>\n",
       "    </tr>\n",
       "    <tr>\n",
       "      <th>2241164</th>\n",
       "      <td>33000</td>\n",
       "      <td>중개거래</td>\n",
       "      <td>2016</td>\n",
       "      <td>79.3100</td>\n",
       "      <td>표선면 표선리</td>\n",
       "      <td>5013032021</td>\n",
       "      <td>표선해비치오션뷰아파트</td>\n",
       "      <td>6</td>\n",
       "      <td>2022</td>\n",
       "      <td>11</td>\n",
       "      <td>15</td>\n",
       "      <td>제주특별자치도</td>\n",
       "      <td>서귀포시</td>\n",
       "      <td>표선리</td>\n",
       "    </tr>\n",
       "  </tbody>\n",
       "</table>\n",
       "<p>2241165 rows × 14 columns</p>\n",
       "</div>"
      ],
      "text/plain": [
       "           거래금액  거래유형  건축년도      전용면적      법정동       법정동코드  \\\n",
       "0        105000        2008   97.6100      사직동  1111011500   \n",
       "1        162000        2008  163.3300      사직동  1111011500   \n",
       "2        119000        2008  131.4400      사직동  1111011500   \n",
       "3        119000        2008  147.3100      사직동  1111011500   \n",
       "4        160000        2004  150.4800      내수동  1111011800   \n",
       "...         ...   ...   ...       ...      ...         ...   \n",
       "2241160    7950   직거래  2000   58.9440  대정읍 상모리  5013025021   \n",
       "2241161   28500   직거래  2016   80.0500  대정읍 상모리  5013025021   \n",
       "2241162   10500  중개거래  1996   60.0000  남원읍 남원리  5013025321   \n",
       "2241163   31500  중개거래  2017   80.9348  표선면 표선리  5013032021   \n",
       "2241164   33000  중개거래  2016   79.3100  표선면 표선리  5013032021   \n",
       "\n",
       "                         아파트   층     년   월   일      시도명  시군구명  동리명  \n",
       "0        광화문스페이스본(101동~105동)  10  2019   1   7    서울특별시   종로구  NaN  \n",
       "1             광화문스페이스본(106동)  11  2019   1  11    서울특별시   종로구  NaN  \n",
       "2        광화문스페이스본(101동~105동)  13  2019   1  19    서울특별시   종로구  NaN  \n",
       "3        광화문스페이스본(101동~105동)   1  2019   1  30    서울특별시   종로구  NaN  \n",
       "4                  경희궁의아침4단지  14  2019   1  25    서울특별시   종로구  NaN  \n",
       "...                      ...  ..   ...  ..  ..      ...   ...  ...  \n",
       "2241160                 한빛테크   2  2022  11   4  제주특별자치도  서귀포시  상모리  \n",
       "2241161             해누리2차아파트   2  2022  11   4  제주특별자치도  서귀포시  상모리  \n",
       "2241162                   에덴   5  2022  11  17  제주특별자치도  서귀포시  남원리  \n",
       "2241163                  다움채   4  2022  11   1  제주특별자치도  서귀포시  표선리  \n",
       "2241164          표선해비치오션뷰아파트   6  2022  11  15  제주특별자치도  서귀포시  표선리  \n",
       "\n",
       "[2241165 rows x 14 columns]"
      ]
     },
     "execution_count": 77,
     "metadata": {},
     "output_type": "execute_result"
    }
   ],
   "source": [
    "df1"
   ]
  },
  {
   "cell_type": "code",
   "execution_count": null,
   "id": "56664de1",
   "metadata": {},
   "outputs": [],
   "source": []
  },
  {
   "cell_type": "code",
   "execution_count": 81,
   "id": "0e705af5",
   "metadata": {},
   "outputs": [],
   "source": [
    "legal_geo_info = pd.merge(legal_info_b, geo_data, \n",
    "                          on = \"법정동코드_2\",\n",
    "                          how = 'left')\n",
    "\n",
    "df2 = pd.merge(df1, legal_geo_info, \n",
    "               on = \"법정동코드\",\n",
    "               how = 'left')\n",
    "df2 = pd.merge(df1, legal_geo_info_2[['법정동코드', 'geometry']], \n",
    "                        on = \"법정동코드\",\n",
    "                        how = 'left')\n"
   ]
  },
  {
   "cell_type": "markdown",
   "id": "1e7c91df",
   "metadata": {},
   "source": [
    "# S3"
   ]
  },
  {
   "cell_type": "code",
   "execution_count": 1,
   "id": "72f0c35a",
   "metadata": {},
   "outputs": [],
   "source": [
    "# file_manager.py\n",
    "import os\n",
    "import boto3\n",
    "\n",
    "# apart-admin\n",
    "AWS_ACCESS_KEY_ID = \"IAM Access Key\"\n",
    "AWS_ACCESS_KEY_SECRET = \"IAM Secret Key\"\n",
    "\n",
    "# set aws credentials \n",
    "s3r = boto3.resource('s3', aws_access_key_id=AWS_ACCESS_KEY_ID,\n",
    "    aws_secret_access_key=AWS_ACCESS_KEY_SECRET)\n",
    "bucket = s3r.Bucket('apart-bucket')"
   ]
  },
  {
   "cell_type": "code",
   "execution_count": 4,
   "id": "931c85ab",
   "metadata": {},
   "outputs": [],
   "source": [
    "# downloading folder \n",
    "prefix = '0_data'\n",
    "for object in bucket.objects.filter(Prefix = '0_data'):\n",
    "    print(object.key)"
   ]
  },
  {
   "cell_type": "code",
   "execution_count": 106,
   "id": "71dfb4b8",
   "metadata": {},
   "outputs": [],
   "source": [
    "list_nm = ['apt_trade','apt_rent', 'rh_trade', 'rh_rent', 'sh_trade', 'sh_rent', 'offi_trade', 'offi_rent']"
   ]
  },
  {
   "cell_type": "code",
   "execution_count": 5,
   "id": "5e31be65",
   "metadata": {},
   "outputs": [],
   "source": [
    "for list_value in list_nm:\n",
    "#     list_value = 'apt_rent'\n",
    "    print(f'0_data/cleaning/{list_value}_201901.csv')\n",
    "    print(f'0_data_raw/{list_value}/{list_value}_201901.csv')"
   ]
  },
  {
   "cell_type": "code",
   "execution_count": 43,
   "id": "0fafba22",
   "metadata": {},
   "outputs": [],
   "source": [
    "for list_value in list_nm:\n",
    "    bucket.download_file(f'0_data_raw/{list_value}/{list_value}_201901.csv',f'0_data/cleaning/{list_value}_201901.csv')"
   ]
  },
  {
   "cell_type": "code",
   "execution_count": null,
   "id": "8ea0de66",
   "metadata": {},
   "outputs": [],
   "source": []
  }
 ],
 "metadata": {
  "kernelspec": {
   "display_name": "Python 3 (ipykernel)",
   "language": "python",
   "name": "python3"
  },
  "language_info": {
   "codemirror_mode": {
    "name": "ipython",
    "version": 3
   },
   "file_extension": ".py",
   "mimetype": "text/x-python",
   "name": "python",
   "nbconvert_exporter": "python",
   "pygments_lexer": "ipython3",
   "version": "3.11.3"
  },
  "toc": {
   "base_numbering": 1,
   "nav_menu": {},
   "number_sections": true,
   "sideBar": true,
   "skip_h1_title": false,
   "title_cell": "Table of Contents",
   "title_sidebar": "Contents",
   "toc_cell": false,
   "toc_position": {
    "height": "calc(100% - 180px)",
    "left": "10px",
    "top": "150px",
    "width": "218.788px"
   },
   "toc_section_display": true,
   "toc_window_display": true
  }
 },
 "nbformat": 4,
 "nbformat_minor": 5
}
