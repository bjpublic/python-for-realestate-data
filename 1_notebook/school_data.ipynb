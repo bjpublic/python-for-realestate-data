{
 "cells": [
  {
   "cell_type": "code",
   "execution_count": 6,
   "id": "5621ae11",
   "metadata": {},
   "outputs": [
    {
     "name": "stdout",
     "output_type": "stream",
     "text": [
      "/home/ubuntu/real_estate_dashboard\n"
     ]
    }
   ],
   "source": [
    "import pandas as pd\n",
    "import requests\n",
    "import os\n",
    "from bs4 import BeautifulSoup as bs\n",
    "\n",
    "\n",
    "os.chdir(\"/home/ubuntu/real_estate_dashboard\")\n",
    "print(os.getcwd())"
   ]
  },
  {
   "cell_type": "code",
   "execution_count": 28,
   "id": "98e5516b",
   "metadata": {},
   "outputs": [],
   "source": [
    "column_nm = [\n",
    "    '시도교육청코드',\n",
    "    '시도교육청명',\n",
    "    '표준학교코드',\n",
    "    '학교명',\n",
    "    '영문학교명',\n",
    "    '학교종류명',\n",
    "    '소재지명',\n",
    "    '관할조직명',\n",
    "    '설립명',\n",
    "    '도로명우편번호',\n",
    "    '도로명주소',\n",
    "    '도로명상세주소',\n",
    "    '전화번호',\n",
    "    '홈페이지주소',\n",
    "    '남녀공학구분명',\n",
    "    '팩스번호',\n",
    "    '고등학교구분명',\n",
    "    '산업체특별학급존재여부',\n",
    "    '고등학교일반실업구분명',\n",
    "    '특수목적고등학교계열명',\n",
    "    '입시전후기구분명',\n",
    "    '주야구분명',\n",
    "    '설립일자',\n",
    "    '개교기념일',\n",
    "    '수정일'\n",
    "]\n",
    "\n",
    "\n",
    "# API키 세팅\n",
    "api_key = '발급받은 API키'\n",
    "\n",
    "total = pd.DataFrame()\n",
    "\n",
    "for i in range(1,8):\n",
    "    url = \"https://open.neis.go.kr/hub/schoolInfo\"    \n",
    "    # 요청변수 파라미터 설정\n",
    "    params = \"?\" + \\\n",
    "        \"KEY=\" + api_key + \"&\" + \\\n",
    "        \"Type=\" + \"xml\" + \"&\" + \\\n",
    "        \"pIndex=\" + str(i) + \"&\" + \\\n",
    "        \"pSize=\" + \"1000\" + \"&\" + \\\n",
    "        \"SCHUL_NM=\" + \"초등학교\"\n",
    "\n",
    "    res = requests.get(url + params)\n",
    "    soup = bs(res.text, 'xml')\n",
    "    items = soup.find_all('row')\n",
    "\n",
    "    for k in range(len(items)):\n",
    "            df_list = items[k].find_all()\n",
    "            df_raw = []\n",
    "            for i in range(len(df_list)):\n",
    "                df_raw.append(df_list[i].text)\n",
    "            df = pd.DataFrame(df_raw).T\n",
    "            \n",
    "                \n",
    "            total = pd.concat([total, df])\n",
    "\n",
    "total.columns = column_nm        \n",
    "total.reset_index(drop=True)\n",
    "total.head(3)\n"
   ]
  },
  {
   "cell_type": "code",
   "execution_count": null,
   "id": "6375827f",
   "metadata": {},
   "outputs": [],
   "source": [
    "file_name = '0_data/'\n",
    "total.to_csv(file_name, index = False)"
   ]
  }
 ],
 "metadata": {
  "kernelspec": {
   "display_name": "Python 3 (ipykernel)",
   "language": "python",
   "name": "python3"
  },
  "language_info": {
   "codemirror_mode": {
    "name": "ipython",
    "version": 3
   },
   "file_extension": ".py",
   "mimetype": "text/x-python",
   "name": "python",
   "nbconvert_exporter": "python",
   "pygments_lexer": "ipython3",
   "version": "3.11.3"
  },
  "toc": {
   "base_numbering": 1,
   "nav_menu": {},
   "number_sections": true,
   "sideBar": true,
   "skip_h1_title": false,
   "title_cell": "Table of Contents",
   "title_sidebar": "Contents",
   "toc_cell": false,
   "toc_position": {
    "height": "calc(100% - 180px)",
    "left": "10px",
    "top": "150px",
    "width": "208.352px"
   },
   "toc_section_display": true,
   "toc_window_display": true
  }
 },
 "nbformat": 4,
 "nbformat_minor": 5
}
