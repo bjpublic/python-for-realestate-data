{
 "cells": [
  {
   "cell_type": "code",
   "execution_count": 2,
   "id": "deb38dd1",
   "metadata": {},
   "outputs": [],
   "source": [
    "import json\n",
    "import urllib.request\n",
    "import pandas as pd\n",
    "\n",
    "\n",
    "os.chdir(\"/home/ubuntu/real_estate_dashboard\")\n",
    "print(os.getcwd())\n",
    "\n",
    "url = \"생성된 URL\"\n",
    "response = urllib.request.urlopen(url)\n",
    "response_message = response.read().decode('utf8')\n",
    "\n",
    "data = json.loads(response_message)\n",
    "\n",
    "df= pd.DataFrame(data)\n",
    "df.head(3).T \n",
    "\n",
    "year_month_key = df['PRD_DE'].unique()[0]\n",
    "\n",
    "file_name = '0_data/cencus_' + year_month_key + \".csv\"\n",
    "df.to_csv(file_name, index = False)"
   ]
  }
 ],
 "metadata": {
  "kernelspec": {
   "display_name": "Python 3 (ipykernel)",
   "language": "python",
   "name": "python3"
  },
  "language_info": {
   "codemirror_mode": {
    "name": "ipython",
    "version": 3
   },
   "file_extension": ".py",
   "mimetype": "text/x-python",
   "name": "python",
   "nbconvert_exporter": "python",
   "pygments_lexer": "ipython3",
   "version": "3.11.3"
  },
  "toc": {
   "base_numbering": 1,
   "nav_menu": {},
   "number_sections": true,
   "sideBar": true,
   "skip_h1_title": false,
   "title_cell": "Table of Contents",
   "title_sidebar": "Contents",
   "toc_cell": false,
   "toc_position": {},
   "toc_section_display": true,
   "toc_window_display": false
  }
 },
 "nbformat": 4,
 "nbformat_minor": 5
}
