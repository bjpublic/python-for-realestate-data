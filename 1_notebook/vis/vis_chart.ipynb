{
 "cells": [
  {
   "cell_type": "code",
   "execution_count": null,
   "id": "d5d2668c",
   "metadata": {},
   "outputs": [],
   "source": [
    "import pandas as pd\n",
    "import os\n",
    "import geopandas as gpd\n",
    "import glob\n",
    "import plotly.express as px\n",
    "import plotly.graph_objects as go\n",
    "import folium\n",
    "import json\n",
    "import math\n",
    "import numpy as np\n",
    "import json\n",
    "import requests\n",
    "from plotly.validators.scatter.marker import SymbolValidator\n",
    "\n",
    "\n",
    "os.chdir(\"/home/ubuntu/real_estate_dashboard\")\n",
    "print(os.getcwd())"
   ]
  },
  {
   "cell_type": "markdown",
   "id": "cb0e9d92",
   "metadata": {},
   "source": [
    "## 데이터 로드"
   ]
  },
  {
   "cell_type": "code",
   "execution_count": null,
   "id": "e7f797e6",
   "metadata": {},
   "outputs": [],
   "source": [
    "dir_nm = \"/home/ubuntu/real_estate_dashboard/0_data\""
   ]
  },
  {
   "cell_type": "code",
   "execution_count": null,
   "id": "7ef25a74",
   "metadata": {},
   "outputs": [],
   "source": [
    "legal_info_b = pd.read_csv(\"0_data/legal_info_b.csv\")\n",
    "legal_info_b = legal_info_b.astype({'법정동코드':'str',\n",
    "  '법정동시군구코드':'str',\n",
    "  '법정동읍면동코드':'str'})"
   ]
  },
  {
   "cell_type": "code",
   "execution_count": null,
   "id": "c1bd6171",
   "metadata": {},
   "outputs": [],
   "source": [
    "# 아파트 매매 실거래\n",
    "apt_trade = pd.read_csv(\"0_data/cleaning/molit/apt_trade.csv\",\n",
    "                        dtype = {'법정동코드':str},\n",
    "                        thousands=r',')\n",
    "# 아파트 전월세 \n",
    "apt_rent = pd.read_csv(\"0_data/cleaning/molit/apt_rent.csv\", thousands=r',')\n",
    "\n",
    "# 연립 다세대 매매 실거래\n",
    "rh_trade = pd.read_csv(\"0_data/cleaning/molit/rh_trade.csv\", thousands=r',')\n",
    "# 연립 다세대 전월세\n",
    "rh_rent = pd.read_csv(\"0_data/cleaning/molit/rh_rent.csv\", thousands=r',')\n",
    "\n",
    "# 단독/다가구 매매 실거래\n",
    "sh_trade = pd.read_csv(\"0_data/cleaning/molit/sh_trade.csv\", thousands=r',')\n",
    "# 단독/다가구 전월세\n",
    "sh_rent = pd.read_csv(\"0_data/cleaning/molit/sh_rent.csv\", thousands=r',')\n",
    "\n",
    "# 오피스텔 매매 실거래\n",
    "offi_trade = pd.read_csv(\"0_data/cleaning/molit/offi_trade.csv\", thousands=r',')\n",
    "# 오피스텔 전월세\n",
    "offi_rent = pd.read_csv(\"0_data/cleaning/molit/offi_rent.csv\", thousands=r',')\n",
    "\n",
    "offi_rent = offi_rent.rename(columns = {'보증금':'보증금액'})\n",
    "offi_rent = offi_rent.rename(columns = {'월세':'월세금액'})\n"
   ]
  },
  {
   "cell_type": "code",
   "execution_count": null,
   "id": "b6bf383d",
   "metadata": {},
   "outputs": [],
   "source": [
    "\n",
    "census = pd.read_csv('0_data/cleaning/census_202210.csv', dtype = {'행정동시군구코드':str,\n",
    "                                                                  '행정동읍면동코드':str})\n",
    "\n",
    "\n",
    "public_park = pd.read_csv('0_data/cleaning/public_park.csv', dtype = {'행정동시군구코드':str,\n",
    "                                                                  '행정동읍면동코드':str})\n",
    "\n",
    "\n",
    "elementary_school = pd.read_csv('0_data/elementary_school.csv')\n"
   ]
  },
  {
   "cell_type": "code",
   "execution_count": null,
   "id": "173bbffb",
   "metadata": {},
   "outputs": [],
   "source": [
    "file_list = sorted(glob.glob(f'0_data/cleaning/molit/*.csv'))\n",
    "file_list"
   ]
  },
  {
   "cell_type": "markdown",
   "id": "b340a330",
   "metadata": {},
   "source": [
    "## 시각화 전용 데이터 생성"
   ]
  },
  {
   "cell_type": "code",
   "execution_count": null,
   "id": "9dd9c981",
   "metadata": {},
   "outputs": [],
   "source": [
    "sig_area_list = apt_trade['시도명'].unique()\n",
    "year_list = apt_trade[['시도명','년','월']].drop_duplicates().reset_index(drop = True)\n",
    "year_list"
   ]
  },
  {
   "cell_type": "code",
   "execution_count": null,
   "id": "5fc1129c",
   "metadata": {},
   "outputs": [],
   "source": [
    "file_list = sorted(glob.glob(f'0_data/cleaning/molit/*.csv'))\n",
    "file_list"
   ]
  },
  {
   "cell_type": "markdown",
   "id": "0ee42673",
   "metadata": {},
   "source": [
    "#### trade_count & mean 데이터 생성"
   ]
  },
  {
   "cell_type": "code",
   "execution_count": null,
   "id": "db5ea1d9",
   "metadata": {
    "scrolled": true
   },
   "outputs": [],
   "source": [
    "total = pd.DataFrame()\n",
    "for i in file_list:\n",
    "    asdf = pd.read_csv(i, thousands=r',')\n",
    "    \n",
    "    asdf = asdf.rename(columns = {'보증금':'보증금액'})\n",
    "    asdf = asdf.rename(columns = {'월세':'월세금액'})\n",
    "    \n",
    "#     asdf = apt_rent\n",
    "\n",
    "    if('거래금액' in asdf.columns):\n",
    "        asdf['구분'] = '매매'\n",
    "        apart_trans2 = asdf[['거래금액','시도명','년', '월','구분']].groupby(['시도명','년', '월','구분']).describe()\n",
    "        apart_trans2 = apart_trans2.reset_index()\n",
    "        apart_trans2['월'] = apart_trans2[\"월\"].astype('str').str.zfill(2)\n",
    "\n",
    "        apart_trans2 = pd.concat([ apart_trans2[['시도명','년', '월','구분']],apart_trans2['거래금액'][['count', 'mean']]], axis = 1)\n",
    "        apart_trans2.columns = ['시도명','년','월','구분','count','mean']\n",
    "\n",
    "        apart_trans2['거래날짜'] = apart_trans2['년'].astype(str) + apart_trans2['월'].astype(str) + \"01\"\n",
    "        apart_trans2['거래날짜'] = apart_trans2.apply(lambda x: pd.to_datetime(x['거래날짜'], format='%Y%m%d'), axis=1)\n",
    "        \n",
    "        apart_trans2['타입'] = i.split(\"/\")[3].split(\"_\")[0]\n",
    "    else:\n",
    "        asdf['구분'] = np.where(asdf['월세금액'] == 0, '전세', '월세')\n",
    "        apart_trans2 = asdf[['보증금액','시도명','년', '월','구분']].groupby(['시도명','년', '월', '구분']).describe()\n",
    "        apart_trans2 = apart_trans2.reset_index()\n",
    "        apart_trans2['월'] = apart_trans2[\"월\"].astype('str').str.zfill(2)\n",
    "\n",
    "        apart_trans2 = pd.concat([ apart_trans2[['시도명','년', '월','구분']],apart_trans2['보증금액'][['count', 'mean']]], axis = 1)\n",
    "        apart_trans2.columns = ['시도명','년','월','구분','count','mean']\n",
    "\n",
    "        apart_trans2['거래날짜'] = apart_trans2['년'].astype(str) + apart_trans2['월'].astype(str) + \"01\"\n",
    "        apart_trans2['거래날짜'] = apart_trans2.apply(lambda x: pd.to_datetime(x['거래날짜'], format='%Y%m%d'), axis=1)\n",
    "        apart_trans2['타입'] = i.split(\"/\")[3].split(\"_\")[0]\n",
    "        \n",
    "    total = pd.concat([total, apart_trans2])\n",
    "total = total.reset_index(drop = True)\n",
    "total.to_csv('trade_count.csv')"
   ]
  },
  {
   "cell_type": "markdown",
   "id": "2d7249e6",
   "metadata": {},
   "source": [
    "#### vis_trade_rent 데이터 생성"
   ]
  },
  {
   "cell_type": "code",
   "execution_count": null,
   "id": "6965fb13",
   "metadata": {},
   "outputs": [],
   "source": [
    "total = pd.DataFrame()\n",
    "for i in file_list:\n",
    "    asdf = pd.read_csv(i, thousands=r',')\n",
    "    \n",
    "    asdf = asdf.rename(columns = {'보증금':'보증금액'})\n",
    "    asdf = asdf.rename(columns = {'월세':'월세금액'})\n",
    "    \n",
    "#     asdf = apt_rent\n",
    "\n",
    "    if('거래금액' in asdf.columns):\n",
    "        asdf['구분'] = '매매'\n",
    "        apart_trans2 = asdf[['거래금액','시도명','시군구명','년', '월','구분']].groupby(['시도명','시군구명','년', '월','구분']).describe()\n",
    "        apart_trans2 = apart_trans2.reset_index()\n",
    "        apart_trans2['월'] = apart_trans2[\"월\"].astype('str').str.zfill(2)\n",
    "\n",
    "        apart_trans2 = pd.concat([ apart_trans2[['시도명','시군구명','년', '월','구분']],apart_trans2['거래금액'][['count', 'mean']]], axis = 1)\n",
    "        apart_trans2.columns = ['시도명','시군구명','년','월','구분','count','mean']\n",
    "\n",
    "        apart_trans2['거래날짜'] = apart_trans2['년'].astype(str) + apart_trans2['월'].astype(str) + \"01\"\n",
    "        apart_trans2['거래날짜'] = apart_trans2.apply(lambda x: pd.to_datetime(x['거래날짜'], format='%Y%m%d'), axis=1)\n",
    "        \n",
    "        apart_trans2['타입'] = i.split(\"/\")[3].split(\"_\")[0]\n",
    "    else:\n",
    "        asdf['구분'] = np.where(asdf['월세금액'] == 0, '전세', '월세')\n",
    "        apart_trans2 = asdf[['보증금액','시도명','시군구명','년', '월','구분']].groupby(['시도명','시군구명','년', '월', '구분']).describe()\n",
    "        apart_trans2 = apart_trans2.reset_index()\n",
    "        apart_trans2['월'] = apart_trans2[\"월\"].astype('str').str.zfill(2)\n",
    "\n",
    "        apart_trans2 = pd.concat([ apart_trans2[['시도명','시군구명','년', '월','구분']],apart_trans2['보증금액'][['count', 'mean']]], axis = 1)\n",
    "        apart_trans2.columns = ['시도명','시군구명','년','월','구분','count','mean']\n",
    "\n",
    "        apart_trans2['거래날짜'] = apart_trans2['년'].astype(str) + apart_trans2['월'].astype(str) + \"01\"\n",
    "        apart_trans2['거래날짜'] = apart_trans2.apply(lambda x: pd.to_datetime(x['거래날짜'], format='%Y%m%d'), axis=1)\n",
    "        apart_trans2['타입'] = i.split(\"/\")[3].split(\"_\")[0]\n",
    "        \n",
    "    total = pd.concat([total, apart_trans2])\n",
    "total = total.reset_index(drop = True)\n",
    "total.to_csv('vis_trade_rent.csv')"
   ]
  },
  {
   "cell_type": "code",
   "execution_count": null,
   "id": "33e84b1b",
   "metadata": {},
   "outputs": [],
   "source": []
  },
  {
   "cell_type": "markdown",
   "id": "b8688fd3",
   "metadata": {},
   "source": [
    "#### vis_trade_rent 읍면동별 데이터 생성"
   ]
  },
  {
   "cell_type": "code",
   "execution_count": null,
   "id": "14f06f8b",
   "metadata": {},
   "outputs": [],
   "source": [
    "apt_rent_202210 = pd.read_csv(f'{dir_nm}/apt_rent_202210.csv')"
   ]
  },
  {
   "cell_type": "code",
   "execution_count": null,
   "id": "9de2c5fe",
   "metadata": {},
   "outputs": [],
   "source": [
    "total = pd.DataFrame()\n",
    "for i in file_list:\n",
    "    asdf = pd.read_csv(i, thousands=r',')\n",
    "    asdf = asdf[(asdf['년'] == 2022) & (asdf['월'] == 10)]\n",
    "    asdfasdf = pd.merge(asdf, to_lat_lon[['법정동코드', 'lon', 'lat']], \n",
    "                        on = '법정동코드', \n",
    "                        how = 'left')\n",
    "    \n",
    "    file_name = i.split(\"/\")[3].split(\".\")[0] + \"_202210.csv\"\n",
    "    asdfasdf.to_csv(file_name, index = False)"
   ]
  },
  {
   "cell_type": "code",
   "execution_count": null,
   "id": "64f6d90f",
   "metadata": {},
   "outputs": [],
   "source": [
    "asdf['법정동코드'] = asdf['법정동코드'].astype(int)\n",
    "to_lat_lon\n",
    "asdfasdf = pd.merge(asdf, to_lat_lon[['법정동코드', 'lon', 'lat']], \n",
    "        on = '법정동코드', \n",
    "        how = 'left')\n",
    "\n",
    "asdfasdf"
   ]
  },
  {
   "cell_type": "code",
   "execution_count": null,
   "id": "f9920884",
   "metadata": {},
   "outputs": [],
   "source": [
    "total = pd.DataFrame()\n",
    "for i in file_list:\n",
    "    asdf = pd.read_csv(i, thousands=r',')\n",
    "    asdf = asdf[(asdf['년'] == 2022) & (asdf['월'] == 10)]\n",
    "\n",
    "    asdf['법정동코드'] = asdf['법정동코드'].astype(str)\n",
    "\n",
    "    asdf = asdf.rename(columns = {'보증금':'보증금액'})\n",
    "    asdf = asdf.rename(columns = {'월세':'월세금액'})\n",
    "\n",
    "    #     asdf = apt_rent\n",
    "\n",
    "    if('거래금액' in asdf.columns):\n",
    "        asdf['구분'] = '매매'\n",
    "        apart_trans2 = asdf[['거래금액','시도명','시군구명','동리명','년', '월','구분']].groupby(['시도명','시군구명','동리명','년', '월','구분']).describe()\n",
    "        apart_trans2 = apart_trans2.reset_index()\n",
    "        apart_trans2['월'] = apart_trans2[\"월\"].astype('str').str.zfill(2)\n",
    "\n",
    "        apart_trans2 = pd.concat([ apart_trans2[['시도명','시군구명','동리명','년', '월','구분']],apart_trans2['거래금액'][['count', 'mean']]], axis = 1)\n",
    "        apart_trans2.columns = ['시도명','시군구명','동리명','년','월','구분','count','mean']\n",
    "\n",
    "        apart_trans2['거래날짜'] = apart_trans2['년'].astype(str) + apart_trans2['월'].astype(str) + \"01\"\n",
    "        apart_trans2['거래날짜'] = apart_trans2.apply(lambda x: pd.to_datetime(x['거래날짜'], format='%Y%m%d'), axis=1)\n",
    "\n",
    "        apart_trans2['타입'] = i.split(\"/\")[3].split(\"_\")[0]\n",
    "    else:\n",
    "        asdf['구분'] = np.where(asdf['월세금액'] == 0, '전세', '월세')\n",
    "        apart_trans2 = asdf[['보증금액','시도명','시군구명','동리명','년', '월','구분']].groupby(['시도명','시군구명','동리명','년', '월', '구분']).describe()\n",
    "        apart_trans2 = apart_trans2.reset_index()\n",
    "        apart_trans2['월'] = apart_trans2[\"월\"].astype('str').str.zfill(2)\n",
    "\n",
    "        apart_trans2 = pd.concat([ apart_trans2[['시도명','시군구명','동리명','년', '월','구분']],apart_trans2['보증금액'][['count', 'mean']]], axis = 1)\n",
    "        apart_trans2.columns = ['시도명','시군구명','동리명','년','월','구분','count','mean']\n",
    "\n",
    "        apart_trans2['거래날짜'] = apart_trans2['년'].astype(str) + apart_trans2['월'].astype(str) + \"01\"\n",
    "        apart_trans2['거래날짜'] = apart_trans2.apply(lambda x: pd.to_datetime(x['거래날짜'], format='%Y%m%d'), axis=1)\n",
    "        apart_trans2['타입'] = i.split(\"/\")[3].split(\"_\")[0]\n",
    "\n",
    "    total = pd.concat([total, apart_trans2])"
   ]
  },
  {
   "cell_type": "code",
   "execution_count": null,
   "id": "2a47134f",
   "metadata": {},
   "outputs": [],
   "source": [
    "total = total.reset_index(drop = True)\n",
    "total.to_csv('vis_trade_rent_emd_202210.csv')"
   ]
  },
  {
   "cell_type": "code",
   "execution_count": null,
   "id": "9852f603",
   "metadata": {},
   "outputs": [],
   "source": [
    "to_lat_lon = pd.read_csv(f'{dir_nm}/legal_lat_lon.csv')"
   ]
  },
  {
   "cell_type": "code",
   "execution_count": null,
   "id": "dbda9f5e",
   "metadata": {},
   "outputs": [],
   "source": [
    "# to_lat_lon\n",
    "\n",
    "total"
   ]
  },
  {
   "cell_type": "markdown",
   "id": "52350e34",
   "metadata": {},
   "source": [
    "#### 최신 지도 데이터 생성"
   ]
  },
  {
   "cell_type": "code",
   "execution_count": null,
   "id": "4df3ef1b",
   "metadata": {},
   "outputs": [],
   "source": [
    "apt_rent_202210 = pd.read_csv('streamlit_csv/apt_rent_202210.csv')\n",
    "apt_trade_202210 = pd.read_csv('streamlit_csv/apt_trade_202210.csv')\n",
    "offi_rent_202210 = pd.read_csv('streamlit_csv/offi_rent_202210.csv')\n",
    "offi_trade_202210 = pd.read_csv('streamlit_csv/offi_trade_202210.csv')\n",
    "rh_rent_202210 = pd.read_csv('streamlit_csv/rh_rent_202210.csv')\n",
    "rh_trade_202210 = pd.read_csv('streamlit_csv/rh_trade_202210.csv')\n",
    "sh_rent_202210 = pd.read_csv('streamlit_csv/sh_rent_202210.csv')\n",
    "sh_trade_202210 = pd.read_csv('streamlit_csv/sh_trade_202210.csv')"
   ]
  },
  {
   "cell_type": "code",
   "execution_count": null,
   "id": "278cf62e",
   "metadata": {},
   "outputs": [],
   "source": [
    "# apt_trade_202210[['거래금액', '']]\n",
    "# offi_trade_202210.head().T\n",
    "offi_trade_202210.head().T"
   ]
  },
  {
   "cell_type": "code",
   "execution_count": null,
   "id": "ac646ee7",
   "metadata": {},
   "outputs": [],
   "source": []
  },
  {
   "cell_type": "code",
   "execution_count": null,
   "id": "0e7f7b61",
   "metadata": {},
   "outputs": [],
   "source": [
    "total = pd.DataFrame()\n",
    "for i in file_list:\n",
    "    asdf = pd.read_csv(i, thousands=r',')\n",
    "    \n",
    "    asdf = asdf.rename(columns = {'보증금':'보증금액'})\n",
    "    asdf = asdf.rename(columns = {'월세':'월세금액'})\n",
    "    if('거래금액' in asdf.columns):\n",
    "    \n",
    "    else:\n",
    "    \n",
    "    "
   ]
  },
  {
   "cell_type": "code",
   "execution_count": null,
   "id": "c205d156",
   "metadata": {},
   "outputs": [],
   "source": [
    "total = pd.DataFrame()\n",
    "for i in file_list:\n",
    "    asdf = pd.read_csv(i, thousands=r',')\n",
    "    asdf = asdf[(asdf['년'] == 2022) & (asdf['월'] == 10)]\n",
    "    asdfasdf = pd.merge(asdf, to_lat_lon[['법정동코드', 'lon', 'lat']], \n",
    "                        on = '법정동코드', \n",
    "                        how = 'left')\n",
    "    \n",
    "    file_name = i.split(\"/\")[3].split(\".\")[0] + \"_202210.csv\"\n",
    "    asdfasdf.to_csv(file_name, index = False)"
   ]
  },
  {
   "cell_type": "markdown",
   "id": "c9a66b09",
   "metadata": {},
   "source": [
    "### 함수 readNumber"
   ]
  },
  {
   "cell_type": "code",
   "execution_count": null,
   "id": "02abc04c",
   "metadata": {},
   "outputs": [],
   "source": [
    "def readNumber(n):\n",
    "    if(n > 10**4):\n",
    "        a = str(format(math.floor(n / 10**4),',d')) + '억'\n",
    "        b = ' ' + str(format(math.floor(n % 10**4),',d'))\n",
    "        c = a + b\n",
    "    else:\n",
    "        c = format(n,',d')\n",
    "    return(c)"
   ]
  },
  {
   "cell_type": "code",
   "execution_count": null,
   "id": "2366cef7",
   "metadata": {},
   "outputs": [],
   "source": [
    "apt_trade.head(2)"
   ]
  },
  {
   "cell_type": "code",
   "execution_count": null,
   "id": "eb236c18",
   "metadata": {},
   "outputs": [],
   "source": [
    "rh_trade.head(2)"
   ]
  },
  {
   "cell_type": "code",
   "execution_count": null,
   "id": "1ef59f2b",
   "metadata": {},
   "outputs": [],
   "source": [
    "sh_trade.head(2)"
   ]
  },
  {
   "cell_type": "code",
   "execution_count": null,
   "id": "c5014d48",
   "metadata": {},
   "outputs": [],
   "source": [
    "offi_trade.head(2)"
   ]
  },
  {
   "cell_type": "markdown",
   "id": "0353fadf",
   "metadata": {},
   "source": [
    "## 지역별 부동산 데이터"
   ]
  },
  {
   "cell_type": "code",
   "execution_count": null,
   "id": "00bf4de3",
   "metadata": {},
   "outputs": [],
   "source": [
    "sig_area = '서울특별시'"
   ]
  },
  {
   "cell_type": "code",
   "execution_count": null,
   "id": "ccd4d472",
   "metadata": {},
   "outputs": [],
   "source": [
    "apart_trans4 = pd.read_csv(f'{dir_nm}/streamlit_csv/map_csv.csv')\n",
    "apart_trans5 = apart_trans4[apart_trans4['시도명'] == sig_area]\n",
    "\n",
    "sig_lat_lon = pd.read_csv(f'{dir_nm}/streamlit_csv/sig_lat_lon.csv')\n",
    "sig_lat_lon_info = sig_lat_lon[sig_lat_lon['sig_nm'] == sig_area].reset_index(drop = True)\n",
    "\n",
    "geo_json_seoul = json.load(open(f'{dir_nm}/geoservice/geo_sig_{sig_area}_json.geojson', encoding = 'utf-8'))"
   ]
  },
  {
   "cell_type": "code",
   "execution_count": null,
   "id": "7611d566",
   "metadata": {},
   "outputs": [],
   "source": [
    "\n",
    "apt_rent_202210 = pd.read_csv(f'{dir_nm}/streamlit_csv/apt_rent_202210.csv')\n",
    "apt_trade_202210 = pd.read_csv(f'{dir_nm}/streamlit_csv/apt_trade_202210.csv')\n",
    "offi_rent_202210 = pd.read_csv(f'{dir_nm}/streamlit_csv/offi_rent_202210.csv')\n",
    "offi_trade_202210 = pd.read_csv(f'{dir_nm}/streamlit_csv/offi_trade_202210.csv')\n",
    "rh_rent_202210 = pd.read_csv(f'{dir_nm}/streamlit_csv/rh_rent_202210.csv')\n",
    "rh_trade_202210 = pd.read_csv(f'{dir_nm}/streamlit_csv/rh_trade_202210.csv')\n",
    "sh_rent_202210 = pd.read_csv(f'{dir_nm}/streamlit_csv/sh_rent_202210.csv')\n",
    "sh_trade_202210 = pd.read_csv(f'{dir_nm}/streamlit_csv/sh_trade_202210.csv')\n",
    "\n",
    "\n",
    "\n",
    "apt_rent_202210_2 = apt_rent_202210[apt_rent_202210['시도명'] == sig_area]\n",
    "apt_trade_202210_2 = apt_trade_202210[apt_trade_202210['시도명'] == sig_area]\n",
    "offi_rent_202210_2 = offi_rent_202210[offi_rent_202210['시도명'] == sig_area]\n",
    "offi_trade_202210_2 = offi_trade_202210[offi_trade_202210['시도명'] == sig_area]\n",
    "rh_rent_202210_2 = rh_rent_202210[rh_rent_202210['시도명'] == sig_area]\n",
    "rh_trade_202210_2 = rh_trade_202210[rh_trade_202210['시도명'] == sig_area]\n",
    "sh_rent_202210_2 = sh_rent_202210[sh_rent_202210['시도명'] == sig_area]\n",
    "sh_trade_202210_2 = sh_trade_202210[sh_trade_202210['시도명'] == sig_area]"
   ]
  },
  {
   "cell_type": "code",
   "execution_count": null,
   "id": "46f39ce7",
   "metadata": {},
   "outputs": [],
   "source": [
    "type_option = 'apt'\n",
    "apart_trans4 = pd.read_csv(f'{dir_nm}/streamlit_csv/map_csv.csv')\n",
    "\n",
    "apart_trans5 = apart_trans4[apart_trans4['시도명'] == sig_area]\n",
    "\n",
    "# df_trade_202210 = read_file_csv(f'apart-bucket/0_data/streamlit_csv/{type_option}_trade_202210.csv')\n",
    "# df_rent_202210 = read_file_csv(f'apart-bucket/0_data/streamlit_csv/{type_option}_rent_202210.csv')\n",
    "df_rent_202210 = pd.read_csv(f'{dir_nm}/streamlit_csv/{type_option}_rent_202210.csv')\n",
    "df_trade_202210 = pd.read_csv(f'{dir_nm}/streamlit_csv/{type_option}_trade_202210.csv')\n",
    "\n",
    "\n",
    "df_trade_202210_2 = df_trade_202210[df_trade_202210['시도명'] == sig_area]\n",
    "df_rent_202210_2 = df_rent_202210[df_rent_202210['시도명'] == sig_area]\n",
    "\n",
    "df_trade_202210_2['사용승인일'] = 2023 - df_trade_202210_2['건축년도']\n",
    "df_rent_202210_2['사용승인일'] = 2023 - df_rent_202210_2['건축년도']\n"
   ]
  },
  {
   "cell_type": "markdown",
   "id": "75049465",
   "metadata": {},
   "source": [
    "### 함수 map_trade"
   ]
  },
  {
   "cell_type": "code",
   "execution_count": null,
   "id": "341114e5",
   "metadata": {},
   "outputs": [],
   "source": [
    "def map_trade(df, trade_option,\n",
    "              amount_value_0,amount_value_1, \n",
    "              area_value_0, area_value_1, \n",
    "              year_value_0, year_value_1,\n",
    "              floor_value_0, floor_value_1):\n",
    "    \n",
    "    if(trade_option == '매매'):\n",
    "        df_trade_202210_2 = df                \n",
    "        apt_trade_202210_3 = df_trade_202210_2[\n",
    "          (df_trade_202210_2['거래금액'] >= amount_value_0) & \n",
    "          (df_trade_202210_2['거래금액'] <= amount_value_1) &\n",
    "          (df_trade_202210_2['전용면적'] >= area_value_0) & \n",
    "          (df_trade_202210_2['전용면적'] <= area_value_1) &\n",
    "          (df_trade_202210_2['사용승인일'] >= year_value_0) & \n",
    "          (df_trade_202210_2['사용승인일'] <= year_value_1) & \n",
    "          (df_trade_202210_2['층'] >= floor_value_0) & \n",
    "          (df_trade_202210_2['층'] <= floor_value_1)\n",
    "          ]\n",
    "        \n",
    "        if('아파트' in df.columns):\n",
    "            apt_trade_202210_3['이름'] = apt_trade_202210_3['아파트']\n",
    "        elif('연립다세대' in df.columns):\n",
    "            apt_trade_202210_3['법정동'] = apt_trade_202210_3['동리명']\n",
    "            apt_trade_202210_3['이름'] = apt_trade_202210_3['연립다세대']\n",
    "        elif('단지' in df.columns):\n",
    "            apt_trade_202210_3['이름'] = apt_trade_202210_3['단지']\n",
    "            apt_trade_202210_3['법정동'] = apt_trade_202210_3['동리명']\n",
    "        \n",
    "        fig = px.scatter_mapbox(apt_trade_202210_3,\n",
    "                                lat=\"lat\",\n",
    "                                lon=\"lon\",\n",
    "                                hover_data={\n",
    "                                  \"lat\" : False,\n",
    "                                  \"lon\" : False,\n",
    "                                  \"이름\" : True,\n",
    "                                  \"법정동\": True,\n",
    "                                  \"거래금액\": True\n",
    "                                  },\n",
    "                                color = '시군구명',\n",
    "                                size = '거래금액',\n",
    "                                height = 600,\n",
    "                                zoom=10)\n",
    "        \n",
    "        fig.update_layout(\n",
    "          mapbox_style=\"carto-positron\",\n",
    "          coloraxis_showscale=False,\n",
    "          showlegend=False,\n",
    "          margin={\"r\":0,\"t\":0,\"l\":0,\"b\":0}\n",
    "          )\n",
    "    \n",
    "    # 전세\n",
    "    elif(trade_option == '전세') :\n",
    "        df_trade_202210_2 = df[df['월세금액'] == 0]             \n",
    "        apt_trade_202210_3 = df_trade_202210_2[\n",
    "          (df_trade_202210_2['보증금액'] >= amount_value_0) & \n",
    "          (df_trade_202210_2['보증금액'] <= amount_value_1) &\n",
    "          (df_trade_202210_2['전용면적'] >= area_value_0) & \n",
    "          (df_trade_202210_2['전용면적'] <= area_value_1) &\n",
    "          (df_trade_202210_2['사용승인일'] >= year_value_0) & \n",
    "          (df_trade_202210_2['사용승인일'] <= year_value_1) & \n",
    "          (df_trade_202210_2['층'] >= floor_value_0) & \n",
    "          (df_trade_202210_2['층'] <= floor_value_1)\n",
    "          ]\n",
    "        \n",
    "        if('아파트' in df.columns):\n",
    "            apt_trade_202210_3['이름'] = apt_trade_202210_3['아파트']\n",
    "            apt_trade_202210_3['법정동'] = apt_trade_202210_3['동리명']\n",
    "        elif('연립다세대' in df.columns):\n",
    "            apt_trade_202210_3['법정동'] = apt_trade_202210_3['동리명']\n",
    "            apt_trade_202210_3['이름'] = apt_trade_202210_3['연립다세대']\n",
    "        elif('단지' in df.columns):\n",
    "            apt_trade_202210_3['이름'] = apt_trade_202210_3['단지']\n",
    "            apt_trade_202210_3['법정동'] = apt_trade_202210_3['동리명']\n",
    "        \n",
    "        fig = px.scatter_mapbox(apt_trade_202210_3,\n",
    "                                lat=\"lat\",\n",
    "                                lon=\"lon\",\n",
    "                                hover_data={\n",
    "                                  \"lat\" : False,\n",
    "                                  \"lon\" : False,\n",
    "                                  \"이름\" : True,\n",
    "                                  \"법정동\": True,\n",
    "                                  \"보증금액\": True\n",
    "                                  },\n",
    "                                color = '시군구명',\n",
    "                                size = '보증금액',\n",
    "                                height = 600,\n",
    "                                zoom=10)\n",
    "        \n",
    "        fig.update_layout(\n",
    "          mapbox_style=\"carto-positron\",\n",
    "          coloraxis_showscale=False,\n",
    "          showlegend=False,\n",
    "          margin={\"r\":0,\"t\":0,\"l\":0,\"b\":0}\n",
    "          )\n",
    "    elif(trade_option == '월세') :\n",
    "        df_trade_202210_2 = df[df['월세금액'] != 0]             \n",
    "        apt_trade_202210_3 = df_trade_202210_2[\n",
    "          (df_trade_202210_2['보증금액'] >= amount_value_0) & \n",
    "          (df_trade_202210_2['보증금액'] <= amount_value_1) &            \n",
    "          (df_trade_202210_2['전용면적'] >= area_value_0) & \n",
    "          (df_trade_202210_2['전용면적'] <= area_value_1) &\n",
    "          (df_trade_202210_2['사용승인일'] >= year_value_0) & \n",
    "          (df_trade_202210_2['사용승인일'] <= year_value_1) & \n",
    "          (df_trade_202210_2['층'] >= floor_value_0) & \n",
    "          (df_trade_202210_2['층'] <= floor_value_1)\n",
    "          ]\n",
    "        \n",
    "        if('아파트' in df.columns):\n",
    "            apt_trade_202210_3['이름'] = apt_trade_202210_3['아파트']\n",
    "            apt_trade_202210_3['법정동'] = apt_trade_202210_3['동리명']\n",
    "        elif('연립다세대' in df.columns):\n",
    "            apt_trade_202210_3['법정동'] = apt_trade_202210_3['동리명']\n",
    "            apt_trade_202210_3['이름'] = apt_trade_202210_3['연립다세대']\n",
    "        elif('단지' in df.columns):\n",
    "            apt_trade_202210_3['이름'] = apt_trade_202210_3['단지']\n",
    "            apt_trade_202210_3['법정동'] = apt_trade_202210_3['동리명']\n",
    "        \n",
    "        fig = px.scatter_mapbox(apt_trade_202210_3,\n",
    "                                lat=\"lat\",\n",
    "                                lon=\"lon\",\n",
    "                                hover_data={\n",
    "                                  \"lat\" : False,\n",
    "                                  \"lon\" : False,\n",
    "                                  \"이름\" : True,\n",
    "                                  \"법정동\": True,\n",
    "                                  \"보증금액\": True,\n",
    "                                  \"월세금액\": True\n",
    "                                  },\n",
    "                                color = '시군구명',\n",
    "                                size = '보증금액',\n",
    "                                height = 600,\n",
    "                                zoom=10)\n",
    "        \n",
    "    fig.update_layout(\n",
    "      mapbox_style=\"carto-positron\",\n",
    "      coloraxis_showscale=False,\n",
    "      showlegend=False,\n",
    "      margin={\"r\":0,\"t\":0,\"l\":0,\"b\":0},\n",
    "      hoverlabel=dict(\n",
    "        bgcolor='white',\n",
    "        font_size=15,\n",
    "        ),\n",
    "        template='plotly_white'\n",
    "      )\n",
    "        \n",
    "    return(fig)"
   ]
  },
  {
   "cell_type": "code",
   "execution_count": null,
   "id": "1a2ad9a8",
   "metadata": {
    "scrolled": false
   },
   "outputs": [],
   "source": [
    "map_trade(df_trade_202210_2,'매매',0,1000000, 1,400, 1, 40, 1, 100)\n"
   ]
  },
  {
   "cell_type": "markdown",
   "id": "db560f5d",
   "metadata": {},
   "source": [
    "### 함수: vis_trade"
   ]
  },
  {
   "cell_type": "code",
   "execution_count": null,
   "id": "937d9476",
   "metadata": {},
   "outputs": [],
   "source": [
    "def vis_trade(df):\n",
    "    apt_trade = df\n",
    "    apt_trade_seoul = apt_trade[apt_trade['시도명'] == sig_area]\n",
    "    \n",
    "    apart_trans2 = apt_trade_seoul[['거래금액','시군구명']].groupby(['시군구명']).mean()\n",
    "    apart_trans2 = apart_trans2.reset_index()\n",
    "    apart_trans2 = apart_trans2.sort_values(by = '거래금액',ascending=False)\n",
    "    apart_trans2['거래금액'] = apart_trans2['거래금액'].astype(int)\n",
    "    apart_trans2['거래금액2'] = apart_trans2['거래금액'].apply(readNumber)\n",
    "    \n",
    "    fig = px.bar(apart_trans2, x=\"시군구명\", y=\"거래금액\", \n",
    "             text = '거래금액2',\n",
    "             color_discrete_sequence=['red'],\n",
    "             opacity = 0.8,\n",
    "             hover_data={\"시군구명\" : True,\n",
    "                         \"거래금액\" : False,\n",
    "                         \"거래금액2\": True\n",
    "                        },\n",
    "             title=f'{sig_area} 시군구별 아파트 실거래가 평균 <br><sup>단위(<b>만원</b>)</sup>')\n",
    "\n",
    "    fig.update_layout(\n",
    "        title= f'{sig_area} 시군구별 아파트 실거래가 평균 <br><sup>단위(만원)</sup>',\n",
    "        hoverlabel=dict(\n",
    "            bgcolor='white',\n",
    "            font_size=15,\n",
    "        ),\n",
    "        template='plotly_white',\n",
    "    )\n",
    "\n",
    "    fig.update_yaxes(tickformat=',') \n",
    "    fig.update_xaxes(tickangle=90)\n",
    "\n",
    "#     fig.show()\n",
    "    return(fig)"
   ]
  },
  {
   "cell_type": "code",
   "execution_count": null,
   "id": "e6025655",
   "metadata": {},
   "outputs": [],
   "source": [
    "sig_area = '서울특별시'\n",
    "year_val = 2021\n",
    "month_val = 11"
   ]
  },
  {
   "cell_type": "code",
   "execution_count": null,
   "id": "a8104efe",
   "metadata": {},
   "outputs": [],
   "source": []
  },
  {
   "cell_type": "markdown",
   "id": "0b2c074d",
   "metadata": {},
   "source": [
    "### 함수 trade_mean_map\n"
   ]
  },
  {
   "cell_type": "code",
   "execution_count": null,
   "id": "58e37ba6",
   "metadata": {},
   "outputs": [],
   "source": [
    "\n",
    "def trade_mean_map(apart_trans4,geo_json_seoul,sig_lat_lon,sig_area):\n",
    "  \n",
    "    apart_trans5 = apart_trans4[apart_trans4['시도명'] == sig_area]\n",
    "    sig_lat_lon_info = sig_lat_lon[sig_lat_lon['sig_nm'] == sig_area].reset_index(drop = True)\n",
    "    \n",
    "    apart_trans5['거래금액_int'] = apart_trans5['거래금액'].astype(int)\n",
    "    apart_trans5['거래금액'] = apart_trans5['거래금액_int'].apply(readNumber)\n",
    "        \n",
    "    fig = px.choropleth_mapbox(apart_trans5, \n",
    "                               geojson=geo_json_seoul, \n",
    "                               color=\"거래금액_int\",\n",
    "                               color_continuous_scale=\"Reds\",\n",
    "                               hover_data={\n",
    "                                   \"SIG_CD\" : False,\n",
    "                                   \"시도명\" : True,\n",
    "                                   \"시군구명\" : True,\n",
    "                                   \"거래금액\": True,\n",
    "                                   \"거래금액_int\": False\n",
    "                               },\n",
    "                               locations=\"SIG_CD\", \n",
    "                               featureidkey=\"properties.SIG_CD\",\n",
    "                               center={\"lat\":sig_lat_lon_info['lon'][0], \n",
    "                                       \"lon\":sig_lat_lon_info['lat'][0]},\n",
    "                               mapbox_style=\"carto-positron\",\n",
    "                               zoom=9)\n",
    "    \n",
    "    fig.update_layout(\n",
    "      margin={\"r\":0,\"t\":50,\"l\":0,\"b\":0},\n",
    "      title = f'{sig_area} 시군구별 아파트 매매 거래금액 지도',\n",
    "      title_font_family=\"맑은고딕\",\n",
    "      title_font_size = 18,\n",
    "      hoverlabel=dict(\n",
    "        bgcolor='white',\n",
    "        font_size=15,\n",
    "        ),\n",
    "        template='plotly_white'\n",
    "    \n",
    "      )\n",
    "      \n",
    "    return fig  \n"
   ]
  },
  {
   "cell_type": "code",
   "execution_count": null,
   "id": "a334a399",
   "metadata": {},
   "outputs": [],
   "source": [
    "trade_mean_map(apart_trans4,\n",
    "                          geo_json_seoul,\n",
    "                          sig_lat_lon,\n",
    "                          sig_area)"
   ]
  },
  {
   "cell_type": "markdown",
   "id": "6a2660d7",
   "metadata": {},
   "source": [
    "## 매매, 전월세 시각화"
   ]
  },
  {
   "cell_type": "markdown",
   "id": "a565e598",
   "metadata": {},
   "source": [
    "### 함수: vis_trade_rent"
   ]
  },
  {
   "cell_type": "code",
   "execution_count": null,
   "id": "c48872b8",
   "metadata": {},
   "outputs": [],
   "source": [
    "sig_area = '서울특별시'\n",
    "year_val = 2021\n",
    "month_val = 12"
   ]
  },
  {
   "cell_type": "code",
   "execution_count": null,
   "id": "e67c8e4f",
   "metadata": {},
   "outputs": [],
   "source": [
    "dir_nm = \"/home/ubuntu/real_estate_dashboard/0_data\"\n",
    "\n",
    "vis_trade_rent_df = pd.read_csv(f'{dir_nm}/streamlit_data/vis_trade_rent.csv')"
   ]
  },
  {
   "cell_type": "code",
   "execution_count": null,
   "id": "b796551a",
   "metadata": {},
   "outputs": [],
   "source": [
    "def vis_trade_rent(total, type_val, sig_area, year_val, month_val):\n",
    "\n",
    "    type_dic = {'apt':'아파트', 'rh':'연립다세대','sh':'단독-다가구','offi':'오피스텔'}\n",
    "    type_nm = type_dic[type_val]\n",
    "    \n",
    "    total['년'] = total['년'].astype(int)\n",
    "    total['월'] = total['월'].astype(int)\n",
    "    total['mean'] = total['mean'].astype(int)\n",
    "    total['mean_2'] = total['mean'].apply(readNumber)\n",
    "\n",
    "    df1 = total[(total['시도명'] == sig_area) & \n",
    "                (total['년'] == year_val) & \n",
    "                (total['월'] == month_val) & \n",
    "                (total['타입'] == type_val)]\n",
    "\n",
    "\n",
    "    df1 = df1.sort_values(by = 'mean',ascending=False)\n",
    "\n",
    "\n",
    "    fig = go.Figure(data = [\n",
    "        go.Bar(name = '매매',\n",
    "               y = df1[df1['구분'] == '매매']['mean'], \n",
    "               x = df1[df1['구분'] == '매매']['시군구명'], \n",
    "               # marker_color='crimson',\n",
    "               marker_color='black',\n",
    "               opacity=1,\n",
    "               marker_pattern_shape=\"-\",\n",
    "               text = df1[df1['구분'] == '매매']['mean_2'],\n",
    "               hovertemplate='%{text}만'\n",
    "              ),\n",
    "        go.Bar(name = '전세', \n",
    "               y = df1[df1['구분'] == '전세']['mean'], \n",
    "               x = df1[df1['구분'] == '전세']['시군구명'],\n",
    "#                marker_color='blue',\n",
    "               marker_color='black',\n",
    "               opacity=0.7,\n",
    "               marker_pattern_shape=\"x\",\n",
    "               text = df1[df1['구분'] == '전세']['mean_2'],\n",
    "               hovertemplate='%{text}만'\n",
    "              ),\n",
    "        go.Bar(name = '월세',\n",
    "               y = df1[df1['구분'] == '월세']['mean'], \n",
    "               x = df1[df1['구분'] == '월세']['시군구명'],\n",
    "#                marker_color='green',\n",
    "               marker_color='black',\n",
    "               opacity=0.3,\n",
    "               marker_pattern_shape=\"+\",\n",
    "               text = df1[df1['구분'] == '월세']['mean_2'],\n",
    "               hovertemplate='%{text}만'\n",
    "              ),\n",
    "    ])\n",
    "\n",
    "\n",
    "\n",
    "    fig.update_layout(\n",
    "        title= f'{sig_area} 시군구별 {type_nm} 매매(실거래가)/전월세(보증금) 평균 <br><sup>단위(만원)</sup>',\n",
    "        title_font_family=\"맑은고딕\",\n",
    "        title_font_size = 18,\n",
    "        hoverlabel=dict(\n",
    "            bgcolor='white',\n",
    "            font_size=15,\n",
    "        ),\n",
    "        hovermode=\"x unified\",\n",
    "        template='plotly_white', \n",
    "        xaxis_tickangle=90,\n",
    "        yaxis_tickformat = ',',\n",
    "        legend = dict(orientation = 'h', xanchor = \"center\", x = 0.85, y= 1.1), #Adjust legend position\n",
    "        barmode='group'\n",
    "    )\n",
    "\n",
    "    return(fig)"
   ]
  },
  {
   "cell_type": "code",
   "execution_count": null,
   "id": "01aaa763",
   "metadata": {
    "scrolled": false
   },
   "outputs": [],
   "source": [
    "sig_area = '서울특별시'\n",
    "year_val = 2021\n",
    "month_val = 12\n",
    "\n",
    "vis_trade_rent(vis_trade_rent_df,\n",
    "                          'rh',\n",
    "                          sig_area,\n",
    "                          year_val,\n",
    "                          month_val)"
   ]
  },
  {
   "cell_type": "markdown",
   "id": "09a4d2ed",
   "metadata": {},
   "source": [
    "## 날짜별 거래량 추이"
   ]
  },
  {
   "cell_type": "code",
   "execution_count": null,
   "id": "9348e14d",
   "metadata": {},
   "outputs": [],
   "source": [
    "dir_nm = \"/home/ubuntu/real_estate_dashboard/0_data\"\n",
    "\n",
    "# trade_count_df = pd.read_csv(f'{dir_nm}/streamlit_csv/trade_count.csv')\n",
    "trade_count_df = pd.read_csv(f'0_data/streamlit_data/trade_count.csv')\n"
   ]
  },
  {
   "cell_type": "markdown",
   "id": "9f10ca07",
   "metadata": {},
   "source": [
    "### 함수: trade_count"
   ]
  },
  {
   "cell_type": "code",
   "execution_count": null,
   "id": "d95ae0ff",
   "metadata": {},
   "outputs": [],
   "source": [
    "sig_area = '서울특별시'\n",
    "from plotly.validators.scatter.marker import SymbolValidator\n",
    "raw_symbols = SymbolValidator().values\n"
   ]
  },
  {
   "cell_type": "code",
   "execution_count": null,
   "id": "cf9c9cb3",
   "metadata": {},
   "outputs": [],
   "source": [
    "def trade_count(df_trade, type_val, sig_area):\n",
    "    \n",
    "    type_dic = {'apt':'아파트', 'rh':'연립다세대','sh':'단독-다가구','offi':'오피스텔'}\n",
    "    type_nm = type_dic[type_val]\n",
    "\n",
    "    total = df_trade\n",
    "    df1 = total[(total['시도명'] == sig_area) & \n",
    "                (total['타입'] == type_val)]\n",
    "    fig = go.Figure(data=[\n",
    "        go.Scatter(\n",
    "            name = '매매', \n",
    "            x=df1[df1['구분'] == '매매']['거래날짜'],\n",
    "            y=df1[df1['구분'] == '매매']['count'],\n",
    "            hovertemplate='%{y}건',\n",
    "            marker_size=8,                   \n",
    "            line_shape='spline'),\n",
    "\n",
    "        go.Scatter(\n",
    "            name = '전세', \n",
    "            x=df1[df1['구분'] == '전세']['거래날짜'],\n",
    "            y=df1[df1['구분'] == '전세']['count'],\n",
    "            hovertemplate='%{y}건',\n",
    "            marker_symbol='triangle-down',\n",
    "            marker_size=8,                 \n",
    "            line_shape='spline'),\n",
    "\n",
    "          go.Scatter(\n",
    "            name = '월세',\n",
    "            x=df1[df1['구분'] == '월세']['거래날짜'],\n",
    "            y=df1[df1['구분'] == '월세']['count'],\n",
    "            hovertemplate='%{y}건',\n",
    "            marker_symbol='square',\n",
    "            marker_size=8,\n",
    "            line_shape='spline')\n",
    "        ])\n",
    "\n",
    "    fig.update_traces(mode='lines+markers')\n",
    "\n",
    "    fig.update_layout(\n",
    "        title= f'{sig_area} 시군구별 {type_nm} 매매(실거래가)/전월세(보증금) 거래량',\n",
    "      title_font_family=\"맑은고딕\",\n",
    "      title_font_size = 18,\n",
    "      hoverlabel=dict(\n",
    "        bgcolor='white',\n",
    "        font_size=15,\n",
    "      ),\n",
    "      hovermode=\"x unified\",\n",
    "      template='plotly_white', \n",
    "      xaxis_tickangle=90,\n",
    "      yaxis_tickformat = ',',\n",
    "      legend = dict(orientation = 'h', xanchor = \"center\", x = 0.85, y= 1.1), \n",
    "      barmode='group'\n",
    "    )\n",
    "\n",
    "    for i in range(2019, 2023):\n",
    "        fig.add_vline(x=f'{i}-01-01', line_width=1, line_dash=\"dash\", line_color=\"green\")\n",
    "    return(fig)"
   ]
  },
  {
   "cell_type": "code",
   "execution_count": null,
   "id": "06f2614d",
   "metadata": {},
   "outputs": [],
   "source": [
    "type_option = 'rh'\n",
    "sig_area = '서울특별시'\n",
    "\n",
    "trade_count(trade_count_df,\n",
    "            type_option,\n",
    "            sig_area)"
   ]
  },
  {
   "cell_type": "markdown",
   "id": "042490c5",
   "metadata": {},
   "source": [
    "### 함수: trade_mean"
   ]
  },
  {
   "cell_type": "code",
   "execution_count": null,
   "id": "3c266761",
   "metadata": {},
   "outputs": [],
   "source": [
    "def trade_mean(df_trade, type_val, sig_area):\n",
    "\n",
    "    type_dic = {'apt':'아파트', 'rh':'연립다세대','sh':'단독-다가구','offi':'오피스텔'}\n",
    "    type_nm = type_dic[type_val]\n",
    "    \n",
    "    total = df_trade\n",
    "    df1 = total[(total['시도명'] == sig_area) &\n",
    "                (total['타입'] == type_val)]\n",
    "                \n",
    "    df1['mean'] = df1['mean'].astype(int)\n",
    "    df1['mean_2'] = df1['mean'].apply(readNumber)\n",
    "    \n",
    "    fig = go.Figure(data=[\n",
    "        go.Scatter(\n",
    "            name = '매매',\n",
    "            x=df1[df1['구분'] == '매매']['거래날짜'],\n",
    "            y=df1[df1['구분'] == '매매']['mean'],\n",
    "            text = df1[df1['구분'] == '매매']['mean_2'],\n",
    "            hovertemplate='%{text}만',\n",
    "            marker_size=8,                \n",
    "            line_shape='spline'),\n",
    "\n",
    "        go.Scatter(\n",
    "            name = '전세',\n",
    "            x=df1[df1['구분'] == '전세']['거래날짜'],\n",
    "            y=df1[df1['구분'] == '전세']['mean'],\n",
    "            text = df1[df1['구분'] == '전세']['mean_2'],\n",
    "            hovertemplate='%{text}만',\n",
    "            marker_symbol='triangle-down',\n",
    "            marker_size=8,                \n",
    "            line_shape='spline'),\n",
    "\n",
    "          go.Scatter(\n",
    "            name = '월세',\n",
    "            x=df1[df1['구분'] == '월세']['거래날짜'],\n",
    "            y=df1[df1['구분'] == '월세']['mean'],\n",
    "            text = df1[df1['구분'] == '월세']['mean_2'],\n",
    "            hovertemplate='%{text}만',\n",
    "            marker_symbol='square',\n",
    "            marker_size=8,              \n",
    "            line_shape='spline')\n",
    "        ])\n",
    "\n",
    "    # fig.update_traces(hoverinfo='text+name', mode='lines+markers')\n",
    "    fig.update_traces(mode='lines+markers')\n",
    "\n",
    "    fig.update_layout(\n",
    "        title= f'{sig_area} 시군구별 {type_nm} 매매(실거래가)/전월세(보증금) 평균 <br><sup>단위(만원)</sup>',\n",
    "      title_font_family=\"맑은고딕\",\n",
    "      title_font_size = 18,\n",
    "      hoverlabel=dict(\n",
    "        bgcolor='white',\n",
    "        font_size=15,\n",
    "      ),\n",
    "      hovermode=\"x unified\",\n",
    "      template='plotly_white',\n",
    "      xaxis_tickangle=90,\n",
    "      yaxis_tickformat = ',',\n",
    "      legend = dict(orientation = 'h', xanchor = \"center\", x = 0.85, y= 1.1), \n",
    "      barmode='group'\n",
    "    )\n",
    "\n",
    "    for i in range(2019, 2023):\n",
    "        fig.add_vline(x=f'{i}-01-01', line_width=1, line_dash=\"dash\", line_color=\"green\")\n",
    "    return(fig)"
   ]
  },
  {
   "cell_type": "code",
   "execution_count": null,
   "id": "13899708",
   "metadata": {},
   "outputs": [],
   "source": [
    "type_option = 'rh'\n",
    "sig_area = '서울특별시'\n",
    "\n",
    "trade_mean(trade_count_df,\n",
    "            type_option,\n",
    "            sig_area)"
   ]
  },
  {
   "cell_type": "markdown",
   "id": "c955054c",
   "metadata": {},
   "source": [
    "### 지역별 인구수"
   ]
  },
  {
   "cell_type": "markdown",
   "id": "c2623fa9",
   "metadata": {},
   "source": [
    "### 함수: cencus_count"
   ]
  },
  {
   "cell_type": "code",
   "execution_count": null,
   "id": "e9524d6f",
   "metadata": {},
   "outputs": [],
   "source": [
    "def cencus_count(df_raw, sig_area):\n",
    "  \n",
    "    df_raw = df_raw[df_raw['행정동_시도명'] == sig_area]\n",
    "    df_raw = df_raw.reset_index(drop = True)\n",
    "\n",
    "    df_vis = df_raw[['행정동_시군구명', '인구수', '구분']].groupby(['행정동_시군구명','구분']).sum()\n",
    "    df_vis = df_vis.reset_index()\n",
    "    df_vis = df_vis.sort_values(by = '인구수',ascending=False)\n",
    "\n",
    "    fig = go.Figure(data=[\n",
    "    go.Bar(\n",
    "      name = '총인구수', \n",
    "      x=df_vis[df_vis['구분'] == '총인구수']['행정동_시군구명'],\n",
    "      y=df_vis[df_vis['구분'] == '총인구수']['인구수'],\n",
    "      hovertemplate='%{y}명'\n",
    "    ),\n",
    "\n",
    "    go.Bar(\n",
    "      name = '남자인구수', \n",
    "      x=df_vis[df_vis['구분'] == '남자인구수']['행정동_시군구명'],\n",
    "      y=df_vis[df_vis['구분'] == '남자인구수']['인구수'],\n",
    "      hovertemplate='%{y}명'\n",
    "    ),\n",
    "\n",
    "    go.Bar(\n",
    "      name = '여자인구수',\n",
    "      x=df_vis[df_vis['구분'] == '여자인구수']['행정동_시군구명'],\n",
    "      y=df_vis[df_vis['구분'] == '여자인구수']['인구수'],\n",
    "      hovertemplate='%{y}명'\n",
    "\n",
    "    )\n",
    "    ])\n",
    "\n",
    "\n",
    "    fig.update_layout(\n",
    "        title= f'{sig_area} 시군구별 지역별 인구수 <br><sup>단위(명)</sup>',\n",
    "        title_font_family=\"맑은고딕\",\n",
    "        title_font_size = 18,\n",
    "        hoverlabel=dict(\n",
    "            bgcolor='white',\n",
    "            font_size=15,\n",
    "        ),\n",
    "        hovermode=\"x unified\",\n",
    "        template='plotly_white', \n",
    "        xaxis_tickangle=90,\n",
    "        yaxis_tickformat = ',',\n",
    "        legend = dict(orientation = 'h', xanchor = \"center\", x = 0.85, y= 1.1), #Adjust legend position\n",
    "        barmode='group'\n",
    "    )\n",
    "\n",
    "    return(fig)"
   ]
  },
  {
   "cell_type": "code",
   "execution_count": null,
   "id": "6446dfec",
   "metadata": {},
   "outputs": [],
   "source": [
    "sig_area = '부산광역시'\n",
    "cencus_count(census,sig_area)"
   ]
  },
  {
   "cell_type": "markdown",
   "id": "c85ff258",
   "metadata": {},
   "source": [
    "## 전국 도시 공원 "
   ]
  },
  {
   "cell_type": "code",
   "execution_count": null,
   "id": "96ccdb5a",
   "metadata": {},
   "outputs": [],
   "source": [
    "def park_count(park_raw, sig_area):\n",
    "  \n",
    "    park_raw = park_raw[park_raw['시도명'] == sig_area]\n",
    "    park_raw = park_raw.reset_index(drop = True)\n",
    "    \n",
    "    park_raw = park_raw[~park_raw['시군구명'].str.contains('은평구|구로구|면목동', na=False)]\n",
    "\n",
    "\n",
    "    park_raw = park_raw[['시군구명','공원구분','공원명']].groupby(['시군구명','공원구분']).describe()\n",
    "    park_raw = park_raw.reset_index()\n",
    "\n",
    "    park_vis = pd.concat([park_raw[['시군구명','공원구분']],park_raw['공원명'][['count']]], axis = 1)\n",
    "    park_vis.columns = ['시군구명','공원구분','count']\n",
    "    \n",
    "    fig = go.Figure()\n",
    "    key_list = park_vis['공원구분'].unique()\n",
    "    for key in key_list:\n",
    "        fig.add_trace(go.Bar(\n",
    "          name = key,\n",
    "          x=park_vis[park_vis['공원구분'] == key]['시군구명'],\n",
    "          y=park_vis[park_vis['공원구분'] == key]['count'],\n",
    "          hovertemplate='%{y}개'\n",
    "        )\n",
    "        )\n",
    "\n",
    "\n",
    "    fig.update_layout(\n",
    "        title= f'{sig_area} 시군구별 도시 공원 개수 <br><sup>단위(개)</sup>',\n",
    "        title_font_family=\"맑은고딕\",\n",
    "        title_font_size = 18,\n",
    "        hoverlabel=dict(\n",
    "            bgcolor='white',\n",
    "            font_size=15,\n",
    "        ),\n",
    "        hovermode=\"x unified\",\n",
    "        template='plotly_white', \n",
    "        xaxis_tickangle=90,\n",
    "        yaxis_tickformat = ',',\n",
    "        legend = dict(orientation = 'h', xanchor = \"center\", x = 0.85, y= 1.1), #Adjust legend position\n",
    "        barmode='stack'\n",
    "    )\n",
    "\n",
    "    return(fig)"
   ]
  },
  {
   "cell_type": "code",
   "execution_count": null,
   "id": "65d79d76",
   "metadata": {
    "scrolled": false
   },
   "outputs": [],
   "source": [
    "sig_area = '부산광역시'\n",
    "park_count(public_park, sig_area)"
   ]
  },
  {
   "cell_type": "markdown",
   "id": "81780f54",
   "metadata": {},
   "source": [
    "### 함수: park_geo"
   ]
  },
  {
   "cell_type": "code",
   "execution_count": null,
   "id": "7a621967",
   "metadata": {},
   "outputs": [],
   "source": [
    "\n",
    "def park_geo(park_raw, sig_area):\n",
    "    public_park_df = park_raw[park_raw['시도명'] == sig_area]\n",
    "    fig = px.scatter_mapbox(public_park_df,\n",
    "                            lat=\"위도\",\n",
    "                            lon=\"경도\",\n",
    "                            color=\"공원구분\",\n",
    "                            hover_data={\n",
    "                              \"위도\" : False,\n",
    "                              \"경도\" : False,\n",
    "                              \"공원명\" : True,\n",
    "                              \"공원구분\": True,\n",
    "                              \"소재지지번주소\": True\n",
    "                              },\n",
    "                            zoom = 10,\n",
    "                            title = f'{sig_area} 시군구별 도시 공원 위치'\n",
    "                              )\n",
    "\n",
    "      \n",
    "    fig.update_layout(\n",
    "      mapbox_style=\"carto-positron\",\n",
    "      margin={\"r\":0,\"t\":50,\"l\":0,\"b\":0},\n",
    "      hoverlabel=dict(\n",
    "        bgcolor='white',\n",
    "        font_size=15,\n",
    "        ),\n",
    "        template='plotly_white'\n",
    "      )\n",
    "        \n",
    "    return(fig)"
   ]
  },
  {
   "cell_type": "code",
   "execution_count": null,
   "id": "8e60ccda",
   "metadata": {
    "scrolled": false
   },
   "outputs": [],
   "source": [
    "sig_area = '서울특별시'\n",
    "park_geo(public_park, sig_area)"
   ]
  },
  {
   "cell_type": "markdown",
   "id": "36ecb601",
   "metadata": {},
   "source": [
    "## 지역별 초등학교"
   ]
  },
  {
   "cell_type": "markdown",
   "id": "8a3a5c9e",
   "metadata": {},
   "source": [
    "### 함수: school_count"
   ]
  },
  {
   "cell_type": "code",
   "execution_count": null,
   "id": "81f9db04",
   "metadata": {},
   "outputs": [],
   "source": [
    "sig_area = '서울특별시'\n",
    "elementary_school['시도명'] = elementary_school['도로명주소'].str.split(' ').str[0]\n",
    "elementary_school['시군구명'] = elementary_school['도로명주소'].str.split(' ').str[1]"
   ]
  },
  {
   "cell_type": "code",
   "execution_count": null,
   "id": "293bdeb3",
   "metadata": {},
   "outputs": [],
   "source": [
    "def school_count(df_trade, sig_area):\n",
    "  \n",
    "    aaaa_raw = df_trade[df_trade['시도명'] == sig_area]\n",
    "    aaaa_raw = aaaa_raw.reset_index(drop = True)\n",
    "\n",
    "\n",
    "    aaaa_raw = aaaa_raw[['시군구명','설립명','학교명']].groupby(['시군구명','설립명']).describe()\n",
    "    aaaa_raw = aaaa_raw.reset_index()\n",
    "\n",
    "    apart_trans2 = pd.concat([aaaa_raw[['시군구명','설립명']],aaaa_raw['학교명'][['count']]], axis = 1)\n",
    "    apart_trans2.columns = ['시군구명','설립명','count']\n",
    "    apart_trans2 = apart_trans2.sort_values(by = 'count',ascending=False)\n",
    "\n",
    "    \n",
    "    fig = go.Figure(data=[\n",
    "        go.Bar(\n",
    "          name = '사립', \n",
    "          x=apart_trans2[apart_trans2['설립명'] == '사립']['시군구명'],\n",
    "          y=apart_trans2[apart_trans2['설립명'] == '사립']['count'],\n",
    "          hovertemplate='%{y}개'\n",
    "        ),\n",
    "\n",
    "        go.Bar(\n",
    "          name = '공립', \n",
    "          x=apart_trans2[apart_trans2['설립명'] == '공립']['시군구명'],\n",
    "          y=apart_trans2[apart_trans2['설립명'] == '공립']['count'],\n",
    "          hovertemplate='%{y}개'\n",
    "        ),\n",
    "\n",
    "        go.Bar(\n",
    "          name = '국립',\n",
    "          x=apart_trans2[apart_trans2['설립명'] == '국립']['시군구명'],\n",
    "          y=apart_trans2[apart_trans2['설립명'] == '국립']['count'],\n",
    "          hovertemplate='%{y}개'\n",
    "\n",
    "        )\n",
    "        ])\n",
    "\n",
    "\n",
    "    fig.update_layout(\n",
    "            title= f'{sig_area} 시군구별 초등학교 수 <br><sup>단위(명)</sup>',\n",
    "            title_font_family=\"맑은고딕\",\n",
    "            title_font_size = 18,\n",
    "            hoverlabel=dict(\n",
    "                bgcolor='white',\n",
    "                font_size=15,\n",
    "            ),\n",
    "            hovermode=\"x unified\",\n",
    "            template='plotly_white', \n",
    "            xaxis_tickangle=90,\n",
    "            yaxis_tickformat = ',',\n",
    "            legend = dict(orientation = 'h', xanchor = \"center\", x = 0.85, y= 1.1), #Adjust legend position\n",
    "            barmode='group'\n",
    "        )\n",
    "\n",
    "    return(fig)"
   ]
  },
  {
   "cell_type": "code",
   "execution_count": null,
   "id": "b65b3e4a",
   "metadata": {
    "scrolled": false
   },
   "outputs": [],
   "source": [
    "sig_area = '서울특별시'\n",
    "school_count(elementary_school, sig_area)"
   ]
  },
  {
   "cell_type": "code",
   "execution_count": null,
   "id": "237a0642",
   "metadata": {},
   "outputs": [],
   "source": []
  }
 ],
 "metadata": {
  "kernelspec": {
   "display_name": "Python 3 (ipykernel)",
   "language": "python",
   "name": "python3"
  },
  "language_info": {
   "codemirror_mode": {
    "name": "ipython",
    "version": 3
   },
   "file_extension": ".py",
   "mimetype": "text/x-python",
   "name": "python",
   "nbconvert_exporter": "python",
   "pygments_lexer": "ipython3",
   "version": "3.11.3"
  },
  "toc": {
   "base_numbering": 1,
   "nav_menu": {},
   "number_sections": true,
   "sideBar": true,
   "skip_h1_title": false,
   "title_cell": "Table of Contents",
   "title_sidebar": "Contents",
   "toc_cell": false,
   "toc_position": {
    "height": "calc(100% - 180px)",
    "left": "10px",
    "top": "150px",
    "width": "293px"
   },
   "toc_section_display": true,
   "toc_window_display": true
  }
 },
 "nbformat": 4,
 "nbformat_minor": 5
}
