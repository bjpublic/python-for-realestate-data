{
 "cells": [
  {
   "cell_type": "code",
   "execution_count": 29,
   "id": "a074db83",
   "metadata": {},
   "outputs": [
    {
     "name": "stdout",
     "output_type": "stream",
     "text": [
      "/home/ubuntu/real_estate_dashboard\n"
     ]
    }
   ],
   "source": [
    "import geopandas as gpd\n",
    "import matplotlib.pyplot as plt\n",
    "import os\n",
    "import pandas as pd\n",
    "import json\n",
    "\n",
    "os.chdir(\"/home/ubuntu/real_estate_dashboard\")\n",
    "print(os.getcwd())"
   ]
  },
  {
   "cell_type": "code",
   "execution_count": 1,
   "id": "afcba163",
   "metadata": {},
   "outputs": [],
   "source": [
    "file_dir = '0_data/geoservice/sig.shp'\n",
    "geo_data = gpd.read_file(file_dir, dtype={'SIG_CD':object}, encoding='utf-8')\n",
    "geo_data.head()"
   ]
  },
  {
   "cell_type": "code",
   "execution_count": 31,
   "id": "f5690f15",
   "metadata": {},
   "outputs": [
    {
     "name": "stderr",
     "output_type": "stream",
     "text": [
      "/home/ubuntu/anaconda3/lib/python3.9/site-packages/pyproj/crs/crs.py:141: FutureWarning: '+init=<authority>:<code>' syntax is deprecated. '<authority>:<code>' is the preferred initialization method. When making the change, be mindful of axis order changes: https://pyproj4.github.io/pyproj/stable/gotchas.html#axis-order-changes-in-proj-6\n",
      "  in_crs_string = _prepare_from_proj_string(in_crs_string)\n"
     ]
    }
   ],
   "source": [
    "geo_data.crs = 'EPSG:5179'\n",
    "geo_data = geo_data.to_crs({\"init\": \"EPSG:4326\"})"
   ]
  },
  {
   "cell_type": "code",
   "execution_count": 2,
   "id": "92bb79b1",
   "metadata": {},
   "outputs": [],
   "source": [
    "geo_data['SIG_KOR_NM'] = geo_data['SIG_KOR_NM'].str.decode('euc-kr')\n",
    "geo_data.head()"
   ]
  },
  {
   "cell_type": "code",
   "execution_count": 3,
   "id": "aef7af94",
   "metadata": {},
   "outputs": [],
   "source": [
    "# 법정동코드 로드\n",
    "logal_info_b = pd.read_csv('0_data/legal_info_b.csv', dtype = {'법정동코드':str})\n",
    "\n",
    "# 시도코드 생성\n",
    "logal_info_b['시도코드'] = logal_info_b['법정동코드'].str[:2]\n",
    "\n",
    "# 시도 코드, 시도명 코드 생성\n",
    "logal_info_b_2 = logal_info_b[['시도코드', '시도명']].drop_duplicates().reset_index(drop = True)\n",
    "logal_info_b_2 \n"
   ]
  },
  {
   "cell_type": "code",
   "execution_count": 26,
   "id": "b0ff2dfe",
   "metadata": {},
   "outputs": [],
   "source": []
  },
  {
   "cell_type": "code",
   "execution_count": 36,
   "id": "22759b66",
   "metadata": {},
   "outputs": [],
   "source": [
    "geo_data['시도코드'] = geo_data['SIG_CD'].str[:2]"
   ]
  },
  {
   "cell_type": "code",
   "execution_count": 4,
   "id": "2aa15127",
   "metadata": {},
   "outputs": [],
   "source": [
    "geo_data = pd.merge(geo_data,logal_info_b_2,\n",
    "        on = '시도코드', \n",
    "        how = 'left')\n",
    "geo_data.head()"
   ]
  },
  {
   "cell_type": "code",
   "execution_count": 5,
   "id": "3529f3b2",
   "metadata": {},
   "outputs": [],
   "source": [
    "# json 파일로 저장\n",
    "geo_data.to_file('0_data/geoservice/geo_sig_json.geojson', encoding = 'utf-8', driver = 'GeoJSON')"
   ]
  },
  {
   "cell_type": "code",
   "execution_count": 52,
   "id": "9f603fe6",
   "metadata": {},
   "outputs": [],
   "source": [
    "for i in range(len(logal_info_b_2)):\n",
    "    sd_code = logal_info_b_2['시도코드'][i]\n",
    "    sd_nm = logal_info_b_2['시도명'][i]\n",
    "    \n",
    "    geo_data_cd = geo_data[geo_data['시도코드'] == sd_code]\n",
    "    \n",
    "    geo_data_cd.to_file(f'0_data/geoservice/geo_sig_{sd_nm}_json.geojson', encoding = 'utf-8', driver = 'GeoJSON')"
   ]
  },
  {
   "cell_type": "code",
   "execution_count": null,
   "id": "4bf81e9e",
   "metadata": {},
   "outputs": [],
   "source": []
  },
  {
   "cell_type": "code",
   "execution_count": null,
   "id": "3097879b",
   "metadata": {},
   "outputs": [],
   "source": []
  },
  {
   "cell_type": "code",
   "execution_count": null,
   "id": "a6825e94",
   "metadata": {},
   "outputs": [],
   "source": []
  }
 ],
 "metadata": {
  "kernelspec": {
   "display_name": "Python 3 (ipykernel)",
   "language": "python",
   "name": "python3"
  },
  "language_info": {
   "codemirror_mode": {
    "name": "ipython",
    "version": 3
   },
   "file_extension": ".py",
   "mimetype": "text/x-python",
   "name": "python",
   "nbconvert_exporter": "python",
   "pygments_lexer": "ipython3",
   "version": "3.11.3"
  },
  "toc": {
   "base_numbering": 1,
   "nav_menu": {},
   "number_sections": true,
   "sideBar": true,
   "skip_h1_title": false,
   "title_cell": "Table of Contents",
   "title_sidebar": "Contents",
   "toc_cell": false,
   "toc_position": {
    "height": "calc(100% - 180px)",
    "left": "10px",
    "top": "150px",
    "width": "303.837px"
   },
   "toc_section_display": true,
   "toc_window_display": true
  }
 },
 "nbformat": 4,
 "nbformat_minor": 5
}
