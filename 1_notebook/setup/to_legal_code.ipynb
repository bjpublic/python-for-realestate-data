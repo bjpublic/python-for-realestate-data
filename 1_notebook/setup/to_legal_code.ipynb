{
 "cells": [
  {
   "cell_type": "code",
   "execution_count": 1,
   "id": "be4d5898",
   "metadata": {},
   "outputs": [
    {
     "name": "stdout",
     "output_type": "stream",
     "text": [
      "/home/ubuntu/real_estate_dashboard\n"
     ]
    }
   ],
   "source": [
    "import pandas as pd\n",
    "import os\n",
    "os.chdir(\"/home/ubuntu/real_estate_dashboard\")\n",
    "print(os.getcwd())"
   ]
  },
  {
   "cell_type": "markdown",
   "id": "f396c1db",
   "metadata": {},
   "source": [
    "# 법정동 코드 가이드"
   ]
  },
  {
   "cell_type": "code",
   "execution_count": 1,
   "id": "c9f1dc8a",
   "metadata": {},
   "outputs": [],
   "source": [
    "legal_info_b = pd.read_excel(\"0_data/KIKcd_B.20230109.xlsx\", \n",
    "                     dtype={'법정동코드':object})\n",
    "\n",
    "legal_info_b.head()"
   ]
  },
  {
   "cell_type": "code",
   "execution_count": 2,
   "id": "4e64ca64",
   "metadata": {},
   "outputs": [],
   "source": [
    "legal_info_b['법정동시군구코드'] = legal_info_b['법정동코드'].str[:5]\n",
    "legal_info_b['법정동읍면동코드'] = legal_info_b['법정동코드'].str[5:]\n",
    "\n",
    "legal_info_b.head()"
   ]
  },
  {
   "cell_type": "code",
   "execution_count": 3,
   "id": "a3f9fc85",
   "metadata": {},
   "outputs": [],
   "source": [
    "legal_info_b = legal_info_b[['법정동코드', \n",
    "                             '시도명', '시군구명', '읍면동명','동리명', \n",
    "                             '법정동시군구코드','법정동읍면동코드']]\n",
    "\n",
    "legal_info_b = legal_info_b[legal_info_b['법정동읍면동코드'] != \"00000\"]\n",
    "legal_info_b = legal_info_b.reset_index(drop = True)\n",
    "\n",
    "legal_info_b.head()"
   ]
  },
  {
   "cell_type": "code",
   "execution_count": 4,
   "id": "6a6d1836",
   "metadata": {},
   "outputs": [],
   "source": [
    "legal_info_b = legal_info_b.where(pd.notnull(legal_info_b), \" \")\n",
    "\n",
    "legal_info_b['시도명'] = legal_info_b['시도명'].str.strip()\n",
    "legal_info_b['시군구명'] = legal_info_b['시군구명'].str.strip()\n",
    "legal_info_b['읍면동명'] = legal_info_b['읍면동명'].str.strip()\n",
    "legal_info_b['동리명'] = legal_info_b['동리명'].str.strip()\n",
    "\n",
    "legal_info_b['주소'] = legal_info_b['시도명'] + \" \" + \\\n",
    "                       legal_info_b['시군구명'] + \" \" + \\\n",
    "                       legal_info_b['읍면동명'] + \" \" + \\\n",
    "                       legal_info_b['동리명']\n",
    "\n",
    "legal_info_b['주소'] = legal_info_b['주소'].str.replace('  ', ' ')\n",
    "legal_info_b['주소'] = legal_info_b['주소'].str.strip()\n",
    "\n",
    "legal_info_b.head()"
   ]
  },
  {
   "cell_type": "markdown",
   "id": "022a3fc9",
   "metadata": {},
   "source": [
    "# 법정동코드"
   ]
  },
  {
   "cell_type": "code",
   "execution_count": 5,
   "id": "c23d1b63",
   "metadata": {},
   "outputs": [],
   "source": [
    "legal_info_b = pd.read_excel(\"0_data/KIKcd_B.20230109.xlsx\", \n",
    "                     dtype={'법정동코드':object})\n",
    "\n",
    "# 법정동시군구코드, 법정동읍면동코드 생성\n",
    "legal_info_b['법정동시군구코드'] = legal_info_b['법정동코드'].str[:5]\n",
    "legal_info_b['법정동읍면동코드'] = legal_info_b['법정동코드'].str[5:]\n",
    "\n",
    "# 법정동 읍면동 자리수 00000 제거\n",
    "legal_info_b = legal_info_b[legal_info_b['법정동읍면동코드'] != \"00000\"]\n",
    "legal_info_b = legal_info_b[['법정동코드', \n",
    "                             '시도명', '시군구명', '읍면동명','동리명',\n",
    "                             '법정동시군구코드','법정동읍면동코드']]\n",
    "legal_info_b = legal_info_b.reset_index(drop = True)\n",
    "\n",
    "# 주소 데이터 생성\n",
    "legal_info_b = legal_info_b.where(pd.notnull(legal_info_b), \" \")\n",
    "\n",
    "legal_info_b['시도명'] = legal_info_b['시도명'].str.strip()\n",
    "legal_info_b['시군구명'] = legal_info_b['시군구명'].str.strip()\n",
    "legal_info_b['읍면동명'] = legal_info_b['읍면동명'].str.strip()\n",
    "legal_info_b['동리명'] = legal_info_b['동리명'].str.strip()\n",
    "\n",
    "legal_info_b['주소'] = legal_info_b['시도명'] + \" \" + \\\n",
    "                       legal_info_b['시군구명'] + \" \" + \\\n",
    "                       legal_info_b['읍면동명'] + \" \" + \\\n",
    "                       legal_info_b['동리명']\n",
    "\n",
    "legal_info_b['주소'] = legal_info_b['주소'].str.replace('  ', ' ')\n",
    "legal_info_b['주소'] = legal_info_b['주소'].str.strip()\n",
    "\n",
    "legal_info_b.head()\n",
    "\n",
    "legal_info_b.to_csv(\"0_data/legal_info_b.csv\", index = False)"
   ]
  },
  {
   "cell_type": "markdown",
   "id": "fb54e6da",
   "metadata": {},
   "source": [
    "# 행정동 코드"
   ]
  },
  {
   "cell_type": "code",
   "execution_count": 6,
   "id": "c3cc66b6",
   "metadata": {},
   "outputs": [],
   "source": [
    "legal_info_h = pd.read_excel(\"0_data/KIKcd_H.20230109.xlsx\", \n",
    "                             dtype={'행정동코드':object})\n",
    "\n",
    "# 행정동시군구코드, 행정동읍면동코드 생성\n",
    "legal_info_h['행정동시군구코드'] = legal_info_h['행정동코드'].str[:5]\n",
    "legal_info_h['행정동읍면동코드'] = legal_info_h['행정동코드'].str[5:]\n",
    "\n",
    "# 행정동 읍면동 자리수 00000 제거\n",
    "legal_info_h = legal_info_h[legal_info_h['행정동읍면동코드'] != \"00000\"]\n",
    "legal_info_h = legal_info_h[['행정동코드',\n",
    "                             '시도명', '시군구명', '읍면동명',\n",
    "                             '행정동시군구코드','행정동읍면동코드']]\n",
    "legal_info_h = legal_info_h.reset_index(drop = True)\n",
    "\n",
    "# 주소 데이터 생성\n",
    "legal_info_h = legal_info_h.where(pd.notnull(legal_info_h), \" \")\n",
    "legal_info_h['시도명'] = legal_info_h['시도명'].str.strip()\n",
    "legal_info_h['시군구명'] = legal_info_h['시군구명'].str.strip()\n",
    "legal_info_h['읍면동명'] = legal_info_h['읍면동명'].str.strip()\n",
    "\n",
    "legal_info_h['주소'] = legal_info_h['시도명'] + \" \" + \\\n",
    "                       legal_info_h['시군구명'] + \" \" + \\\n",
    "                       legal_info_h['읍면동명'] + \" \" + \\\n",
    "                       legal_info_h['동리명']\n",
    "\n",
    "legal_info_h['주소'] = legal_info_h['주소'].str.replace('  ', ' ')\n",
    "legal_info_h['주소'] = legal_info_h['주소'].str.strip()\n",
    "\n",
    "legal_info_h.columns = ['행정동코드', '행정동_시도명', '행정동_시군구명', '행정동_읍면동명', \n",
    "                        '행정동시군구코드', '행정동읍면동코드', '행정동_주소']\n",
    "\n",
    "legal_info_h.head()"
   ]
  },
  {
   "cell_type": "code",
   "execution_count": 40,
   "id": "50318cad",
   "metadata": {},
   "outputs": [],
   "source": [
    "legal_info_h.to_csv(\"0_data/legal_info_h.csv\", index = False)"
   ]
  },
  {
   "cell_type": "markdown",
   "id": "fe9c555d",
   "metadata": {},
   "source": [
    "# 법정동 & 행정동 코드"
   ]
  },
  {
   "cell_type": "code",
   "execution_count": 7,
   "id": "2fdd5006",
   "metadata": {},
   "outputs": [],
   "source": [
    "legal_info_mix = pd.read_excel(\"0_data/KIKmix.20230109.xlsx\", dtype={'법정동코드':object, '행정동코드':object})\n",
    "\n",
    "legal_info_mix[legal_info_mix['읍면동명'] == legal_info_mix['동리명']].head()"
   ]
  },
  {
   "cell_type": "code",
   "execution_count": 49,
   "id": "a70a6c8c",
   "metadata": {},
   "outputs": [],
   "source": [
    "legal_info_mix = pd.read_excel(\"0_data/KIKmix.20230109.xlsx\", dtype={'법정동코드':object, '행정동코드':object})\n",
    "\n",
    "legal_info_mix['법정동시군구코드'] = legal_info_mix['법정동코드'].str[:5]\n",
    "legal_info_mix['법정동읍면동코드'] = legal_info_mix['법정동코드'].str[5:]\n",
    "\n",
    "legal_info_mix = legal_info_mix[legal_info_mix['법정동읍면동코드'] != \"00000\"]\n",
    "legal_info_mix = legal_info_mix.reset_index(drop = True)\n",
    "\n",
    "legal_info_mix = legal_info_mix[['행정동코드','법정동코드']].drop_duplicates()"
   ]
  },
  {
   "cell_type": "code",
   "execution_count": 8,
   "id": "3bfb0e99",
   "metadata": {},
   "outputs": [],
   "source": [
    "legal_info_mix_total = pd.merge(legal_info_mix, legal_info_b,  \n",
    "        on = '법정동코드',\n",
    "        how = 'left')\n",
    "\n",
    "legal_info_mix_total = pd.merge(legal_info_mix_total, legal_info_h,  \n",
    "        on = '행정동코드',\n",
    "        how = 'left')\n",
    "\n",
    "df_mix_total.head(3).T"
   ]
  },
  {
   "cell_type": "code",
   "execution_count": null,
   "id": "6b9a8b83",
   "metadata": {},
   "outputs": [],
   "source": [
    "legal_info_mix_total.to_csv(\"0_data/legal_info_mix.csv\", index = False)"
   ]
  }
 ],
 "metadata": {
  "kernelspec": {
   "display_name": "Python 3 (ipykernel)",
   "language": "python",
   "name": "python3"
  },
  "language_info": {
   "codemirror_mode": {
    "name": "ipython",
    "version": 3
   },
   "file_extension": ".py",
   "mimetype": "text/x-python",
   "name": "python",
   "nbconvert_exporter": "python",
   "pygments_lexer": "ipython3",
   "version": "3.11.3"
  },
  "toc": {
   "base_numbering": 1,
   "nav_menu": {},
   "number_sections": true,
   "sideBar": true,
   "skip_h1_title": false,
   "title_cell": "Table of Contents",
   "title_sidebar": "Contents",
   "toc_cell": false,
   "toc_position": {
    "height": "calc(100% - 180px)",
    "left": "10px",
    "top": "150px",
    "width": "224.4px"
   },
   "toc_section_display": true,
   "toc_window_display": true
  }
 },
 "nbformat": 4,
 "nbformat_minor": 5
}
