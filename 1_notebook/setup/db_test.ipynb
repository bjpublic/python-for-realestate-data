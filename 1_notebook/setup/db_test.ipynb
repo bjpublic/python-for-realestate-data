{
 "cells": [
  {
   "cell_type": "code",
   "execution_count": 1,
   "id": "c39b7794",
   "metadata": {},
   "outputs": [],
   "source": [
    "# 라이브러리\n",
    "import pandas as pd\n",
    "from sqlalchemy import create_engine # DB연결을 위한 라이브러리\n",
    "\n",
    "# DB 정보 입력\n",
    "\n",
    "# 마스터 사용자 이름\n",
    "user= 'postgres'\n",
    "# 마스터 암호\n",
    "password= 'mypassword1'\n",
    "# 엔드 포인트\n",
    "host= 'python-apart-db.chye2xy6xz7a.ap-northeast-2.rds.amazonaws.com'\n",
    "# PostgreSql port\n",
    "port= '5432'\n",
    "# DB 이름\n",
    "database = 'python_apart_db'\n",
    "\n",
    "\n",
    "# 입력된 DB정보\n",
    "engine = create_engine(f'postgresql://{user}:{password}@{host}:{port}/{database}', echo = False)\n",
    "\n",
    "# DB 연결\n",
    "conn = engine.connect()\n",
    "\n",
    "# DB 테스트를 위한 데이터 프레임 생성\n",
    "df = pd.DataFrame({\"a\" :[1,2,3,],\n",
    "             \"b\" : ['a','b','c']})\n",
    "\n",
    "# 판다스의 to_sql 함수를 사용.\n",
    "# df.to_sql (\"table_test\", con = conn, if_exists = \"replace\", index = False)\n",
    "df.to_sql (\"table_test\", con = conn, if_exists = \"replace\", index = False)"
   ]
  },
  {
   "cell_type": "code",
   "execution_count": 2,
   "id": "3b2595bc",
   "metadata": {},
   "outputs": [
    {
     "data": {
      "text/html": [
       "<div>\n",
       "<style scoped>\n",
       "    .dataframe tbody tr th:only-of-type {\n",
       "        vertical-align: middle;\n",
       "    }\n",
       "\n",
       "    .dataframe tbody tr th {\n",
       "        vertical-align: top;\n",
       "    }\n",
       "\n",
       "    .dataframe thead th {\n",
       "        text-align: right;\n",
       "    }\n",
       "</style>\n",
       "<table border=\"1\" class=\"dataframe\">\n",
       "  <thead>\n",
       "    <tr style=\"text-align: right;\">\n",
       "      <th></th>\n",
       "      <th>a</th>\n",
       "      <th>b</th>\n",
       "    </tr>\n",
       "  </thead>\n",
       "  <tbody>\n",
       "    <tr>\n",
       "      <th>0</th>\n",
       "      <td>1</td>\n",
       "      <td>a</td>\n",
       "    </tr>\n",
       "    <tr>\n",
       "      <th>1</th>\n",
       "      <td>2</td>\n",
       "      <td>b</td>\n",
       "    </tr>\n",
       "    <tr>\n",
       "      <th>2</th>\n",
       "      <td>3</td>\n",
       "      <td>c</td>\n",
       "    </tr>\n",
       "  </tbody>\n",
       "</table>\n",
       "</div>"
      ],
      "text/plain": [
       "   a  b\n",
       "0  1  a\n",
       "1  2  b\n",
       "2  3  c"
      ]
     },
     "execution_count": 2,
     "metadata": {},
     "output_type": "execute_result"
    }
   ],
   "source": [
    "# DB에 잘 적재 되었는지 확인\n",
    "sql = 'SELECT * FROM table_test'\n",
    "pd.read_sql(sql, conn)"
   ]
  }
 ],
 "metadata": {
  "kernelspec": {
   "display_name": "Python 3 (ipykernel)",
   "language": "python",
   "name": "python3"
  },
  "language_info": {
   "codemirror_mode": {
    "name": "ipython",
    "version": 3
   },
   "file_extension": ".py",
   "mimetype": "text/x-python",
   "name": "python",
   "nbconvert_exporter": "python",
   "pygments_lexer": "ipython3",
   "version": "3.11.3"
  },
  "toc": {
   "base_numbering": 1,
   "nav_menu": {},
   "number_sections": true,
   "sideBar": true,
   "skip_h1_title": false,
   "title_cell": "Table of Contents",
   "title_sidebar": "Contents",
   "toc_cell": false,
   "toc_position": {},
   "toc_section_display": true,
   "toc_window_display": false
  }
 },
 "nbformat": 4,
 "nbformat_minor": 5
}
